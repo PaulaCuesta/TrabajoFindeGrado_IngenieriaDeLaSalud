{
 "cells": [
  {
   "cell_type": "code",
   "execution_count": 18,
   "id": "50d26214-4a1e-401e-8da1-89635b480d50",
   "metadata": {},
   "outputs": [
    {
     "name": "stdout",
     "output_type": "stream",
     "text": [
      "Note: you may need to restart the kernel to use updated packages.Requirement already satisfied: requests in c:\\users\\paula\\anaconda3\\envs\\biopy\\lib\\site-packages (2.31.0)\n",
      "Requirement already satisfied: charset-normalizer<4,>=2 in c:\\users\\paula\\anaconda3\\envs\\biopy\\lib\\site-packages (from requests) (2.0.4)\n",
      "Requirement already satisfied: idna<4,>=2.5 in c:\\users\\paula\\anaconda3\\envs\\biopy\\lib\\site-packages (from requests) (3.4)\n",
      "Requirement already satisfied: urllib3<3,>=1.21.1 in c:\\users\\paula\\anaconda3\\envs\\biopy\\lib\\site-packages (from requests) (2.1.0)\n",
      "Requirement already satisfied: certifi>=2017.4.17 in c:\\users\\paula\\anaconda3\\envs\\biopy\\lib\\site-packages (from requests) (2024.2.2)\n",
      "\n",
      "{'assembly_name': 'GRCh38', 'seq_region_name': '17', 'feature_type': 'variation', 'strand': 1, 'source': 'dbSNP', 'id': 'rs1555523630', 'start': 7668203, 'end': 7668204, 'clinical_significance': ['pathogenic'], 'alleles': ['CC', 'CCC'], 'consequence_type': 'intron_variant'}\n",
      "{'source': 'dbSNP', 'seq_region_name': '17', 'assembly_name': 'GRCh38', 'feature_type': 'variation', 'strand': 1, 'start': 7669666, 'id': 'rs730882017', 'consequence_type': 'frameshift_variant', 'alleles': ['C', '-'], 'end': 7669666, 'clinical_significance': ['pathogenic']}\n",
      "rs1555523630\n",
      "rs730882017\n",
      "rs2150988776\n",
      "rs876658982\n",
      "rs587781664\n",
      "Variant Data: {'evidence': ['Phenotype_or_Disease'], 'most_severe_consequence': 'intron_variant', 'clinical_significance': ['pathogenic'], 'mappings': [{'ancestral_allele': 'CC', 'coord_system': 'chromosome', 'seq_region_name': '17', 'strand': 1, 'allele_string': 'CC/CCC', 'assembly_name': 'GRCh38', 'end': 7668204, 'start': 7668203, 'location': '17:7668203-7668204'}], 'var_class': 'indel', 'source': 'Variants (including SNPs and indels) imported from dbSNP', 'name': 'rs1555523630', 'minor_allele': None, 'MAF': None, 'synonyms': ['RCV000501362', 'VCV000437018'], 'ambiguity': None}\n",
      "Flanking Sequence:\n",
      "GGTGAGAGGCTGCCGAGGGGGAAGCAGCCCAGTCCTAGAAGCAGGGGAGGGAGAGAACCTTGTGCCAGCCGTGGCCGGAGGGGAGGAGGGACGGTTGGTTCCTGAGTTATGAATGGAGCCACCCCCTCCCTTGTTGTCATGCAGCCCGCAGACTGACCCAGTCTCCAGCCTTTGTTCCCCTCCCGGAACCCGGGCACTGGGC\n"
     ]
    }
   ],
   "source": [
    "%run Funciones_preprocesamiento.ipynb"
   ]
  },
  {
   "cell_type": "markdown",
   "id": "d949e2c3-34e2-45f7-bd12-c8eb2c2e41da",
   "metadata": {},
   "source": [
    "# Datos del gen TP53"
   ]
  },
  {
   "cell_type": "code",
   "execution_count": 19,
   "id": "a651c9b2-b320-4b31-9543-471176faf7b7",
   "metadata": {},
   "outputs": [],
   "source": [
    "gen_tp53_ensembl =  \"ENSG00000141510\"\n",
    "especie = \"human\""
   ]
  },
  {
   "cell_type": "code",
   "execution_count": 20,
   "id": "19f17869-1133-4b35-9acb-51e808a40197",
   "metadata": {},
   "outputs": [],
   "source": [
    "variantes_tp53 = acceso_variantes_ensembl (gen_tp53_ensembl, especie)"
   ]
  },
  {
   "cell_type": "code",
   "execution_count": 22,
   "id": "7855f469-4a61-4b9c-b314-ced05cbae3e9",
   "metadata": {},
   "outputs": [
    {
     "name": "stdout",
     "output_type": "stream",
     "text": [
      "{\n",
      "  \"end\": 7661787,\n",
      "  \"assembly_name\": \"GRCh38\",\n",
      "  \"start\": 7661784,\n",
      "  \"consequence_type\": \"3_prime_UTR_variant\",\n",
      "  \"seq_region_name\": \"17\",\n",
      "  \"id\": \"rs1160905233\",\n",
      "  \"strand\": 1,\n",
      "  \"alleles\": [\n",
      "    \"AGAG\",\n",
      "    \"AG\"\n",
      "  ],\n",
      "  \"clinical_significance\": [],\n",
      "  \"feature_type\": \"variation\",\n",
      "  \"source\": \"dbSNP\"\n",
      "}\n",
      "{\n",
      "  \"seq_region_name\": \"17\",\n",
      "  \"consequence_type\": \"3_prime_UTR_variant\",\n",
      "  \"start\": 7661787,\n",
      "  \"assembly_name\": \"GRCh38\",\n",
      "  \"end\": 7661787,\n",
      "  \"alleles\": [\n",
      "    \"G\",\n",
      "    \"A\"\n",
      "  ],\n",
      "  \"feature_type\": \"variation\",\n",
      "  \"clinical_significance\": [],\n",
      "  \"source\": \"dbSNP\",\n",
      "  \"id\": \"rs2072688722\",\n",
      "  \"strand\": 1\n",
      "}\n"
     ]
    }
   ],
   "source": [
    "# Imprimir algunas variantes\n",
    "for variante in variantes_tp53[:2]:\n",
    "    print(json.dumps(variante, indent=2))"
   ]
  },
  {
   "cell_type": "code",
   "execution_count": 23,
   "id": "bf1e1440-ea53-4675-907e-723d3ff6e63c",
   "metadata": {},
   "outputs": [],
   "source": [
    "variantes_patogenicas_tp53 = obtener_variantes_patogenicas(gen_tp53_ensembl, especie)"
   ]
  },
  {
   "cell_type": "code",
   "execution_count": 24,
   "id": "0d9a91cd-6873-4df9-a5a1-a8f53634e84e",
   "metadata": {},
   "outputs": [
    {
     "name": "stdout",
     "output_type": "stream",
     "text": [
      "{\n",
      "  \"consequence_type\": \"intron_variant\",\n",
      "  \"seq_region_name\": \"17\",\n",
      "  \"end\": 7668204,\n",
      "  \"assembly_name\": \"GRCh38\",\n",
      "  \"start\": 7668203,\n",
      "  \"feature_type\": \"variation\",\n",
      "  \"clinical_significance\": [\n",
      "    \"pathogenic\"\n",
      "  ],\n",
      "  \"source\": \"dbSNP\",\n",
      "  \"alleles\": [\n",
      "    \"CC\",\n",
      "    \"CCC\"\n",
      "  ],\n",
      "  \"strand\": 1,\n",
      "  \"id\": \"rs1555523630\"\n",
      "}\n",
      "{\n",
      "  \"seq_region_name\": \"17\",\n",
      "  \"consequence_type\": \"frameshift_variant\",\n",
      "  \"assembly_name\": \"GRCh38\",\n",
      "  \"start\": 7669666,\n",
      "  \"end\": 7669666,\n",
      "  \"feature_type\": \"variation\",\n",
      "  \"source\": \"dbSNP\",\n",
      "  \"clinical_significance\": [\n",
      "    \"pathogenic\"\n",
      "  ],\n",
      "  \"alleles\": [\n",
      "    \"C\",\n",
      "    \"-\"\n",
      "  ],\n",
      "  \"strand\": 1,\n",
      "  \"id\": \"rs730882017\"\n",
      "}\n",
      "{\n",
      "  \"end\": 7669677,\n",
      "  \"assembly_name\": \"GRCh38\",\n",
      "  \"start\": 7669673,\n",
      "  \"consequence_type\": \"frameshift_variant\",\n",
      "  \"seq_region_name\": \"17\",\n",
      "  \"strand\": 1,\n",
      "  \"id\": \"rs2150988776\",\n",
      "  \"feature_type\": \"variation\",\n",
      "  \"clinical_significance\": [\n",
      "    \"uncertain significance\",\n",
      "    \"pathogenic\"\n",
      "  ],\n",
      "  \"source\": \"dbSNP\",\n",
      "  \"alleles\": [\n",
      "    \"TTTTT\",\n",
      "    \"TTTT\"\n",
      "  ]\n",
      "}\n",
      "{\n",
      "  \"end\": 7669691,\n",
      "  \"start\": 7669691,\n",
      "  \"assembly_name\": \"GRCh38\",\n",
      "  \"consequence_type\": \"splice_acceptor_variant\",\n",
      "  \"seq_region_name\": \"17\",\n",
      "  \"strand\": 1,\n",
      "  \"id\": \"rs876658982\",\n",
      "  \"source\": \"dbSNP\",\n",
      "  \"feature_type\": \"variation\",\n",
      "  \"clinical_significance\": [\n",
      "    \"likely pathogenic\",\n",
      "    \"pathogenic\"\n",
      "  ],\n",
      "  \"alleles\": [\n",
      "    \"C\",\n",
      "    \"A\",\n",
      "    \"T\"\n",
      "  ]\n",
      "}\n",
      "{\n",
      "  \"feature_type\": \"variation\",\n",
      "  \"source\": \"dbSNP\",\n",
      "  \"clinical_significance\": [\n",
      "    \"not provided\",\n",
      "    \"likely pathogenic\",\n",
      "    \"pathogenic\"\n",
      "  ],\n",
      "  \"alleles\": [\n",
      "    \"T\",\n",
      "    \"A\",\n",
      "    \"C\",\n",
      "    \"G\"\n",
      "  ],\n",
      "  \"strand\": 1,\n",
      "  \"id\": \"rs587781664\",\n",
      "  \"consequence_type\": \"splice_acceptor_variant\",\n",
      "  \"seq_region_name\": \"17\",\n",
      "  \"end\": 7669692,\n",
      "  \"assembly_name\": \"GRCh38\",\n",
      "  \"start\": 7669692\n",
      "}\n"
     ]
    }
   ],
   "source": [
    "# Imprimir algunas variantes patogénicas\n",
    "for variante in variantes_patogenicas_tp53[:5]:\n",
    "    print(json.dumps(variante, indent=2))"
   ]
  },
  {
   "cell_type": "code",
   "execution_count": 25,
   "id": "d65a7ae9-b7b7-4f5b-b8b2-e98b9c58a5f1",
   "metadata": {},
   "outputs": [
    {
     "name": "stdout",
     "output_type": "stream",
     "text": [
      "527\n"
     ]
    }
   ],
   "source": [
    "# Cantidad de variantes patogénicas almacenadas\n",
    "\n",
    "print (len(variantes_patogenicas_tp53))\n"
   ]
  },
  {
   "cell_type": "code",
   "execution_count": 26,
   "id": "02c179d4-a6b9-44c2-b543-1e21775dddf3",
   "metadata": {},
   "outputs": [],
   "source": [
    "variantes_benignas_tp53 = obtener_variantes_benignas(gen_tp53_ensembl, especie)"
   ]
  },
  {
   "cell_type": "code",
   "execution_count": 27,
   "id": "174e27bc-2a41-47e9-8f15-a198b98e2b55",
   "metadata": {},
   "outputs": [
    {
     "name": "stdout",
     "output_type": "stream",
     "text": [
      "{\n",
      "  \"clinical_significance\": [\n",
      "    \"benign\"\n",
      "  ],\n",
      "  \"seq_region_name\": \"17\",\n",
      "  \"id\": \"rs183153328\",\n",
      "  \"alleles\": [\n",
      "    \"C\",\n",
      "    \"A\"\n",
      "  ],\n",
      "  \"start\": 7667908,\n",
      "  \"strand\": 1,\n",
      "  \"end\": 7667908,\n",
      "  \"feature_type\": \"variation\",\n",
      "  \"consequence_type\": \"intron_variant\",\n",
      "  \"assembly_name\": \"GRCh38\",\n",
      "  \"source\": \"dbSNP\"\n",
      "}\n",
      "{\n",
      "  \"id\": \"rs1614984\",\n",
      "  \"clinical_significance\": [\n",
      "    \"benign\"\n",
      "  ],\n",
      "  \"seq_region_name\": \"17\",\n",
      "  \"alleles\": [\n",
      "    \"G\",\n",
      "    \"A\"\n",
      "  ],\n",
      "  \"start\": 7668134,\n",
      "  \"strand\": 1,\n",
      "  \"assembly_name\": \"GRCh38\",\n",
      "  \"source\": \"dbSNP\",\n",
      "  \"feature_type\": \"variation\",\n",
      "  \"end\": 7668134,\n",
      "  \"consequence_type\": \"intron_variant\"\n",
      "}\n",
      "{\n",
      "  \"clinical_significance\": [\n",
      "    \"benign\"\n",
      "  ],\n",
      "  \"seq_region_name\": \"17\",\n",
      "  \"id\": \"rs17880560\",\n",
      "  \"feature_type\": \"variation\",\n",
      "  \"consequence_type\": \"intron_variant\",\n",
      "  \"end\": 7668179,\n",
      "  \"assembly_name\": \"GRCh38\",\n",
      "  \"source\": \"dbSNP\",\n",
      "  \"start\": 7668170,\n",
      "  \"alleles\": [\n",
      "    \"GCCGTGGCCG\",\n",
      "    \"GCCGTGGCCGTGGCCG\"\n",
      "  ],\n",
      "  \"strand\": 1\n",
      "}\n",
      "{\n",
      "  \"strand\": 1,\n",
      "  \"alleles\": [\n",
      "    \"T\",\n",
      "    \"G\"\n",
      "  ],\n",
      "  \"start\": 7668434,\n",
      "  \"feature_type\": \"variation\",\n",
      "  \"consequence_type\": \"3_prime_UTR_variant\",\n",
      "  \"end\": 7668434,\n",
      "  \"source\": \"dbSNP\",\n",
      "  \"assembly_name\": \"GRCh38\",\n",
      "  \"seq_region_name\": \"17\",\n",
      "  \"clinical_significance\": [\n",
      "    \"uncertain significance\",\n",
      "    \"benign\",\n",
      "    \"risk factor\"\n",
      "  ],\n",
      "  \"id\": \"rs78378222\"\n",
      "}\n",
      "{\n",
      "  \"source\": \"dbSNP\",\n",
      "  \"assembly_name\": \"GRCh38\",\n",
      "  \"consequence_type\": \"3_prime_UTR_variant\",\n",
      "  \"feature_type\": \"variation\",\n",
      "  \"end\": 7668539,\n",
      "  \"strand\": 1,\n",
      "  \"alleles\": [\n",
      "    \"G\",\n",
      "    \"A\",\n",
      "    \"C\"\n",
      "  ],\n",
      "  \"start\": 7668539,\n",
      "  \"id\": \"rs114831472\",\n",
      "  \"seq_region_name\": \"17\",\n",
      "  \"clinical_significance\": [\n",
      "    \"benign\",\n",
      "    \"likely benign\"\n",
      "  ]\n",
      "}\n"
     ]
    }
   ],
   "source": [
    "# Imprimimos algunos registros de variantes benignas\n",
    "\n",
    "for variante in variantes_benignas_tp53[:5]:\n",
    "    print (json.dumps(variante, indent=2))"
   ]
  },
  {
   "cell_type": "code",
   "execution_count": null,
   "id": "8b4d96de-e365-4bff-befb-18b903e05b24",
   "metadata": {},
   "outputs": [],
   "source": [
    "# Gen CTN"
   ]
  }
 ],
 "metadata": {
  "kernelspec": {
   "display_name": "Python 3 (ipykernel)",
   "language": "python",
   "name": "python3"
  },
  "language_info": {
   "codemirror_mode": {
    "name": "ipython",
    "version": 3
   },
   "file_extension": ".py",
   "mimetype": "text/x-python",
   "name": "python",
   "nbconvert_exporter": "python",
   "pygments_lexer": "ipython3",
   "version": "3.11.7"
  }
 },
 "nbformat": 4,
 "nbformat_minor": 5
}
