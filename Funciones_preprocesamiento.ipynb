{
 "cells": [
  {
   "cell_type": "code",
   "execution_count": 2,
   "id": "d140f5d4-ef29-4db2-a1ad-5a8a01fd0c9e",
   "metadata": {},
   "outputs": [],
   "source": [
    "import requests\n",
    "import json \n",
    "import sys\n"
   ]
  },
  {
   "cell_type": "code",
   "execution_count": null,
   "id": "09d184db",
   "metadata": {},
   "outputs": [],
   "source": [
    "from Bio import SeqIO\n",
    "from Bio.Seq import Seq\n",
    "from Bio.SeqRecord import SeqRecord\n",
    "from Bio import AlignIO"
   ]
  },
  {
   "cell_type": "markdown",
   "id": "2d92a3fb-48ed-4b2c-b8a6-c61ab39bc580",
   "metadata": {},
   "source": [
    "## Aceso a todas las variantes de un gen a través de la API de Ensembl"
   ]
  },
  {
   "cell_type": "code",
   "execution_count": 135,
   "id": "c82c3801-8015-47d0-9456-c1dd0cdb46f2",
   "metadata": {},
   "outputs": [],
   "source": [
    "def acceso_variantes_ensembl (identificador_gen, especie):\n",
    "    \"\"\" \n",
    "    DESCRIPCIÓN DE LA FUNCIÓN\"\"\"\n",
    "    \n",
    "    rest_api = \"https://rest.ensembl.org\"\n",
    "    extension_variantes = f\"/overlap/id/{identificador_gen}?feature=variation;species={especie}\"\n",
    "\n",
    "    solicitud = requests.get(rest_api+extension_variantes, headers={\"Content-Type\" : \"application/json\"})\n",
    "\n",
    "\n",
    "    if not solicitud.ok:\n",
    "        solicitud.raise_for_status()\n",
    "        sys.exit()\n",
    "\n",
    "    variantes = solicitud.json()\n",
    "    \n",
    "    return variantes\n",
    "\n"
   ]
  },
  {
   "cell_type": "markdown",
   "id": "5144eeac-41ae-4e75-a654-732788b1ad98",
   "metadata": {},
   "source": [
    "## Obtención de las variantes patogénicas a partir de las variantes que hemos obtenido de la API de Ensembl"
   ]
  },
  {
   "cell_type": "code",
   "execution_count": 136,
   "id": "1a78bc13-af30-47af-9959-7976e2af79ed",
   "metadata": {},
   "outputs": [],
   "source": [
    "def obtener_variantes_patogenicas (identificador_gen, especie):\n",
    "    \"\"\"\n",
    "    DESCRIPCIÓN DE LA FUNCIÓN\n",
    "    \"\"\"\n",
    "\n",
    "    variantes = acceso_variantes_ensembl (identificador_gen, especie)\n",
    "    variantes_patogenicas = []\n",
    "\n",
    "    for var in variantes:\n",
    "        if \"clinical_significance\" in var and \"pathogenic\" in var[\"clinical_significance\"]:\n",
    "            variantes_patogenicas.append(var)\n",
    "\n",
    "\n",
    "    return variantes_patogenicas\n",
    "            "
   ]
  },
  {
   "cell_type": "markdown",
   "id": "4a3d7ace-8946-4d68-9bdf-56ac97f21d53",
   "metadata": {},
   "source": [
    "## Obtención de las variantes benignas a partir de las variantes que hemos obtenido de la API de Ensembl"
   ]
  },
  {
   "cell_type": "code",
   "execution_count": 137,
   "id": "6070a3be-eaac-4ac5-987a-8f4349958387",
   "metadata": {},
   "outputs": [],
   "source": [
    "def obtener_variantes_benignas (identificador_gen, especie):\n",
    "    \"\"\"\n",
    "    DESCRIPCIÓN DE LA FUNCIÓN\n",
    "    \"\"\"\n",
    "\n",
    "    variantes = acceso_variantes_ensembl (identificador_gen, especie)\n",
    "    variantes_benignas = []\n",
    "\n",
    "    for var in variantes:\n",
    "        if \"clinical_significance\" in var and \"benign\" in var[\"clinical_significance\"]:\n",
    "            variantes_benignas.append(var)\n",
    "\n",
    "\n",
    "    return variantes_benignas\n",
    "            "
   ]
  },
  {
   "cell_type": "code",
   "execution_count": null,
   "id": "7b74edb7-b58b-4db3-a46c-1d63e65b143a",
   "metadata": {},
   "outputs": [],
   "source": []
  },
  {
   "cell_type": "markdown",
   "id": "3c8b7cd8-8847-4aca-b80b-9876b52171c3",
   "metadata": {},
   "source": [
    "## Obtención de la localización de las variantes"
   ]
  },
  {
   "cell_type": "code",
   "execution_count": 159,
   "id": "23274a04-b22a-4f64-b293-4132958f0bbf",
   "metadata": {},
   "outputs": [],
   "source": [
    "def obtener_localizacion_variantes (variantes):\n",
    "\n",
    "    diccionario_posiciones_variantes = {}\n",
    "\n",
    "    for var in variantes:\n",
    "        inicio = var[\"start\"]\n",
    "        final = var[\"end\"]\n",
    "        longitud = final - (inicio - 1)\n",
    "        diccionario_posiciones_variantes[var[\"id\"]] = [inicio, final, longitud]\n",
    "    \n",
    "    return diccionario_posiciones_variantes\n",
    "        "
   ]
  },
  {
   "cell_type": "markdown",
   "id": "b573fedd-1e64-437c-ae1b-933e09ac0a22",
   "metadata": {},
   "source": [
    "## Obtención de los exones"
   ]
  },
  {
   "cell_type": "code",
   "execution_count": 148,
   "id": "c909d7e1-3986-424e-86a1-8a32bc23ad96",
   "metadata": {},
   "outputs": [],
   "source": [
    "def obtener_exones_gen (identificador_transcrito, especie):\n",
    "    \n",
    "    rest_api = \"https://rest.ensembl.org\"\n",
    "    extension_exones = f\"/lookup/id/{identificador_transcrito}?expand=1&species={especie}\"\n",
    "\n",
    "    solicitud = requests.get(rest_api+extension_exones, headers={\"Content-Type\" : \"application/json\"})\n",
    "\n",
    "    if not solicitud.ok:\n",
    "        solicitud.raise_for_status()\n",
    "        sys.exit()\n",
    "\n",
    "    exones = solicitud.json()\n",
    "\n",
    "    return exones[\"Exon\"]\n",
    "\n",
    "    "
   ]
  },
  {
   "cell_type": "markdown",
   "id": "536bce29-1433-45d3-b27f-ab106e7bf5df",
   "metadata": {},
   "source": [
    "## Obtención de la secuencia de los exones en formato fasta"
   ]
  },
  {
   "cell_type": "code",
   "execution_count": 413,
   "id": "f933362e-3e96-41a8-ad76-761b2f7c98e5",
   "metadata": {},
   "outputs": [],
   "source": [
    "def obtener_secuencia_exones_fasta (identificador_transcrito, especie, nombre_archivo_fasta):\n",
    "    exones = obtener_exones_gen (identificador_transcrito, especie)\n",
    "\n",
    "    lista_secuencias = []\n",
    "\n",
    "    contador = 1\n",
    "\n",
    "    for ex in exones:\n",
    "        identificador_exon = ex[\"id\"]\n",
    "\n",
    "        rest_api = \"https://rest.ensembl.org\"\n",
    "        extension_secuencia_exon = f\"/sequence/id/{identificador_exon}?content-type=text/x-fasta\"\n",
    "\n",
    "        solicitud2 = requests.get(rest_api+extension_secuencia_exon, headers={ \"Content-Type\" : \"application/json\"})\n",
    "\n",
    "        if not solicitud2.ok:\n",
    "            solicitud2.raise_for_status()\n",
    "            sys.exit()\n",
    "\n",
    "        exon = solicitud2.json()\n",
    "        \n",
    "        if ex[\"strand\"] == -1:\n",
    "            secuencia_fasta = SeqRecord (Seq(exon[\"seq\"]).complement())\n",
    "            \n",
    "        else:\n",
    "            secuencia_fasta = SeqRecord (Seq(exon[\"seq\"]))\n",
    "            \n",
    "        secuencia_fasta.id = exon[\"id\"]\n",
    "        secuencia_fasta.name = exon[\"id\"] + \"exon\" + str(contador)\n",
    "        secuencia_fasta.description = exon[\"desc\"]  + \" exon \" + str(contador)\n",
    "        lista_secuencias.append(secuencia_fasta)\n",
    "\n",
    "        contador +=1\n",
    "\n",
    "    SeqIO.write(lista_secuencias, nombre_archivo_fasta, \"fasta\")\n",
    "\n",
    "    print (\"Se han guardado las secuencias correctamente\")\n",
    "    \n",
    "    return exones\n"
   ]
  },
  {
   "cell_type": "markdown",
   "id": "3422a409-9ee3-4ce9-8498-79f083def30e",
   "metadata": {},
   "source": [
    "## Obtención de la localización de los exones"
   ]
  },
  {
   "cell_type": "code",
   "execution_count": 28,
   "id": "9a1afee6-8b13-4c58-ac2b-d5213ea967e9",
   "metadata": {},
   "outputs": [],
   "source": [
    "def obtener_localizacion_exones (exones):\n",
    "    \n",
    "    diccionario_posiciones_exones = {}\n",
    "\n",
    "    for exon in exones:\n",
    "        inicio = exon[\"start\"]\n",
    "        final = exon[\"end\"]\n",
    "        longitud = final - inicio\n",
    "        diccionario_posiciones_exones[exon[\"id\"]] = [inicio, final, longitud]\n",
    "    \n",
    "    return diccionario_posiciones_exones\n",
    "        \n",
    "    "
   ]
  },
  {
   "cell_type": "code",
   "execution_count": null,
   "id": "6096696a-a451-4332-9019-cf94f813f19d",
   "metadata": {},
   "outputs": [],
   "source": []
  },
  {
   "cell_type": "markdown",
   "id": "9ef99891-d138-4583-8c93-35645d2283d8",
   "metadata": {},
   "source": [
    "## Obtención de la CDS (coding sequence) de un gen"
   ]
  },
  {
   "cell_type": "code",
   "execution_count": 37,
   "id": "46fbef14-9da6-4e6f-a99e-c3fb5c8b112b",
   "metadata": {},
   "outputs": [],
   "source": [
    "def obtener_cds_gen (identificador_transcrito, especie):\n",
    "    rest_api = \"https://rest.ensembl.org\"\n",
    "    extension_cds = f\"/sequence/id/{identificador_transcrito}?type=cds;species={especie}\"\n",
    "\n",
    "    solicitud = requests.get(rest_api+extension_cds, headers={\"Content-Type\" : \"application/json\"})\n",
    "\n",
    "    if not solicitud.ok:\n",
    "        solicitud.raise_for_status()\n",
    "        sys.exit()\n",
    "\n",
    "    secuencia_cds = solicitud.json()\n",
    "\n",
    "    return secuencia_cds"
   ]
  },
  {
   "cell_type": "code",
   "execution_count": null,
   "id": "fa586e2e-57c5-4bb0-abb5-2b775b46dc2a",
   "metadata": {},
   "outputs": [],
   "source": [
    "secuencia_fasta = SeqRecord (Seq(exon[\"seq\"]))\n",
    "            \n",
    "        secuencia_fasta.id = exon[\"id\"]\n",
    "        secuencia_fasta.name = exon[\"id\"] + \"exon\" + str(contador)\n",
    "        secuencia_fasta.description = exon[\"desc\"]  + \" exon \" + str(contador)\n",
    "        lista_secuencias.append(secuencia_fasta)\n",
    "\n",
    "        contador +=1\n",
    "\n",
    "    SeqIO.write(lista_secuencias, nombre_archivo_fasta, \"fasta\")\n",
    "\n",
    "    print (\"Se han guardado las secuencias correctamente\")\n",
    "    \n",
    "    return exones\n"
   ]
  },
  {
   "cell_type": "code",
   "execution_count": 55,
   "id": "6717d8d7-c941-4627-8745-176458373c39",
   "metadata": {},
   "outputs": [],
   "source": [
    "def obtener_cds_gen_fasta (identificador_transcrito, especie, nombre_archivo_fasta):\n",
    "    region_codificante = obtener_cds_gen (identificador_transcrito, especie)\n",
    "    lista_fasta = []\n",
    "    \n",
    "    cds_fasta = SeqRecord (Seq(region_codificante[\"seq\"]), id = region_codificante[\"id\"])\n",
    "    cds_fasta.id = region_codificante[\"id\"]\n",
    "    cds_fasta.name = region_codificante[\"id\"] + \" región codificante\"\n",
    "    cds_fasta.description = region_codificante[\"desc\"]\n",
    "    print (cds_fasta)\n",
    "\n",
    "    lista_fasta.append(cds_fasta)\n",
    "\n",
    "    SeqIO.write(lista_fasta, nombre_archivo_fasta, \"fasta\")\n",
    "\n",
    "    print (\"La región CDS se ha guardado correctamente\")\n",
    "\n",
    "    return region_codificante\n",
    "  \n"
   ]
  },
  {
   "cell_type": "code",
   "execution_count": 56,
   "id": "123fddba-7be9-46d2-b4da-91012acc3ab8",
   "metadata": {},
   "outputs": [
    {
     "name": "stdout",
     "output_type": "stream",
     "text": [
      "ID: ENST00000269305\n",
      "Name: ENST00000269305 región codificante\n",
      "Number of features: 0\n",
      "Seq('ATGGAGGAGCCGCAGTCAGATCCTAGCGTCGAGCCCCCTCTGAGTCAGGAAACA...TGA')\n"
     ]
    },
    {
     "ename": "AttributeError",
     "evalue": "'NoneType' object has no attribute 'replace'",
     "output_type": "error",
     "traceback": [
      "\u001b[1;31m---------------------------------------------------------------------------\u001b[0m",
      "\u001b[1;31mAttributeError\u001b[0m                            Traceback (most recent call last)",
      "Cell \u001b[1;32mIn[56], line 1\u001b[0m\n\u001b[1;32m----> 1\u001b[0m obtener_cds_gen_fasta (\u001b[38;5;124m\"\u001b[39m\u001b[38;5;124mENST00000269305\u001b[39m\u001b[38;5;124m\"\u001b[39m, \u001b[38;5;124m\"\u001b[39m\u001b[38;5;124mhuman\u001b[39m\u001b[38;5;124m\"\u001b[39m, \u001b[38;5;124m\"\u001b[39m\u001b[38;5;124mdata_TP53/region_CDS.fasta\u001b[39m\u001b[38;5;124m\"\u001b[39m)\n",
      "Cell \u001b[1;32mIn[55], line 13\u001b[0m, in \u001b[0;36mobtener_cds_gen_fasta\u001b[1;34m(identificador_transcrito, especie, nombre_archivo_fasta)\u001b[0m\n\u001b[0;32m      9\u001b[0m \u001b[38;5;28mprint\u001b[39m (cds_fasta)\n\u001b[0;32m     11\u001b[0m lista_fasta\u001b[38;5;241m.\u001b[39mappend(cds_fasta)\n\u001b[1;32m---> 13\u001b[0m SeqIO\u001b[38;5;241m.\u001b[39mwrite(lista_fasta, nombre_archivo_fasta, \u001b[38;5;124m\"\u001b[39m\u001b[38;5;124mfasta\u001b[39m\u001b[38;5;124m\"\u001b[39m)\n\u001b[0;32m     15\u001b[0m \u001b[38;5;28mprint\u001b[39m (\u001b[38;5;124m\"\u001b[39m\u001b[38;5;124mLa región CDS se ha guardado correctamente\u001b[39m\u001b[38;5;124m\"\u001b[39m)\n\u001b[0;32m     17\u001b[0m \u001b[38;5;28;01mreturn\u001b[39;00m region_codificante\n",
      "File \u001b[1;32m~\\anaconda3\\envs\\biopy\\Lib\\site-packages\\Bio\\SeqIO\\__init__.py:526\u001b[0m, in \u001b[0;36mwrite\u001b[1;34m(sequences, handle, format)\u001b[0m\n\u001b[0;32m    524\u001b[0m \u001b[38;5;28;01mwith\u001b[39;00m as_handle(handle, \u001b[38;5;124m\"\u001b[39m\u001b[38;5;124mw\u001b[39m\u001b[38;5;124m\"\u001b[39m) \u001b[38;5;28;01mas\u001b[39;00m fp:\n\u001b[0;32m    525\u001b[0m     \u001b[38;5;28;01mfor\u001b[39;00m record \u001b[38;5;129;01min\u001b[39;00m sequences:\n\u001b[1;32m--> 526\u001b[0m         fp\u001b[38;5;241m.\u001b[39mwrite(format_function(record))\n\u001b[0;32m    527\u001b[0m         count \u001b[38;5;241m+\u001b[39m\u001b[38;5;241m=\u001b[39m \u001b[38;5;241m1\u001b[39m\n\u001b[0;32m    528\u001b[0m \u001b[38;5;28;01mreturn\u001b[39;00m count\n",
      "File \u001b[1;32m~\\anaconda3\\envs\\biopy\\Lib\\site-packages\\Bio\\SeqIO\\FastaIO.py:378\u001b[0m, in \u001b[0;36mas_fasta\u001b[1;34m(record)\u001b[0m\n\u001b[0;32m    372\u001b[0m \u001b[38;5;250m\u001b[39m\u001b[38;5;124;03m\"\"\"Turn a SeqRecord into a FASTA formatted string.\u001b[39;00m\n\u001b[0;32m    373\u001b[0m \n\u001b[0;32m    374\u001b[0m \u001b[38;5;124;03mThis is used internally by the SeqRecord's .format(\"fasta\")\u001b[39;00m\n\u001b[0;32m    375\u001b[0m \u001b[38;5;124;03mmethod and by the SeqIO.write(..., ..., \"fasta\") function.\u001b[39;00m\n\u001b[0;32m    376\u001b[0m \u001b[38;5;124;03m\"\"\"\u001b[39;00m\n\u001b[0;32m    377\u001b[0m \u001b[38;5;28mid\u001b[39m \u001b[38;5;241m=\u001b[39m _clean(record\u001b[38;5;241m.\u001b[39mid)\n\u001b[1;32m--> 378\u001b[0m description \u001b[38;5;241m=\u001b[39m _clean(record\u001b[38;5;241m.\u001b[39mdescription)\n\u001b[0;32m    379\u001b[0m \u001b[38;5;28;01mif\u001b[39;00m description \u001b[38;5;129;01mand\u001b[39;00m description\u001b[38;5;241m.\u001b[39msplit(\u001b[38;5;28;01mNone\u001b[39;00m, \u001b[38;5;241m1\u001b[39m)[\u001b[38;5;241m0\u001b[39m] \u001b[38;5;241m==\u001b[39m \u001b[38;5;28mid\u001b[39m:\n\u001b[0;32m    380\u001b[0m     \u001b[38;5;66;03m# The description includes the id at the start\u001b[39;00m\n\u001b[0;32m    381\u001b[0m     title \u001b[38;5;241m=\u001b[39m description\n",
      "File \u001b[1;32m~\\anaconda3\\envs\\biopy\\Lib\\site-packages\\Bio\\SeqIO\\Interfaces.py:127\u001b[0m, in \u001b[0;36m_clean\u001b[1;34m(text)\u001b[0m\n\u001b[0;32m    125\u001b[0m \u001b[38;5;28;01mdef\u001b[39;00m \u001b[38;5;21m_clean\u001b[39m(text: \u001b[38;5;28mstr\u001b[39m) \u001b[38;5;241m-\u001b[39m\u001b[38;5;241m>\u001b[39m \u001b[38;5;28mstr\u001b[39m:\n\u001b[0;32m    126\u001b[0m \u001b[38;5;250m    \u001b[39m\u001b[38;5;124;03m\"\"\"Use this to avoid getting newlines in the output (PRIVATE).\"\"\"\u001b[39;00m\n\u001b[1;32m--> 127\u001b[0m     \u001b[38;5;28;01mreturn\u001b[39;00m text\u001b[38;5;241m.\u001b[39mreplace(\u001b[38;5;124m\"\u001b[39m\u001b[38;5;130;01m\\n\u001b[39;00m\u001b[38;5;124m\"\u001b[39m, \u001b[38;5;124m\"\u001b[39m\u001b[38;5;124m \u001b[39m\u001b[38;5;124m\"\u001b[39m)\u001b[38;5;241m.\u001b[39mreplace(\u001b[38;5;124m\"\u001b[39m\u001b[38;5;130;01m\\r\u001b[39;00m\u001b[38;5;124m\"\u001b[39m, \u001b[38;5;124m\"\u001b[39m\u001b[38;5;124m \u001b[39m\u001b[38;5;124m\"\u001b[39m)\n",
      "\u001b[1;31mAttributeError\u001b[0m: 'NoneType' object has no attribute 'replace'"
     ]
    }
   ],
   "source": [
    "obtener_cds_gen_fasta (\"ENST00000269305\", \"human\", \"data_TP53/region_CDS.fasta\")"
   ]
  },
  {
   "cell_type": "markdown",
   "id": "f2bb248a-fcc5-400e-be67-c23f79180058",
   "metadata": {},
   "source": [
    "## Obtener un diccionario con todas las variantes de un determinado exón "
   ]
  },
  {
   "cell_type": "code",
   "execution_count": 443,
   "id": "b27168fb-c3a1-4567-906f-8a480fe2a266",
   "metadata": {},
   "outputs": [],
   "source": [
    "def obtener_variantes_exon (variantes, identificador_exon, exones):\n",
    "    for ex in exones:\n",
    "        if ex[\"id\"] == identificador_exon:\n",
    "            inicio_exon = ex[\"start\"]\n",
    "            final_exon = ex[\"end\"]\n",
    "\n",
    "            diccionario_variantes_exon = {}\n",
    "\n",
    "            for var in variantes:\n",
    "                inicio_variante = var[\"start\"]\n",
    "\n",
    "                if inicio_exon <= inicio_variante <= final_exon:\n",
    "                    diccionario_variantes_exon[var[\"id\"]] = var\n",
    "\n",
    "    return diccionario_variantes_exon\n",
    "    "
   ]
  },
  {
   "cell_type": "markdown",
   "id": "1e268137-9c88-4b80-9d38-20baf687de07",
   "metadata": {},
   "source": [
    "## Obtención de la secuencia de las variantes, tanto patogénicas, como benignas\n",
    "\n",
    "Como al utilizar la API de Ensembl para obtener las variantes no obtenemos la secuencia completa del gen con estas variaciones, sino que solo obtenemos los alelos que han sufrido la variación lo que vamos a hacer es lo siguiente:\n",
    "\n",
    "1. A partir del diccionario de las variantes que corresponden a un determinado exón, vamos a identificar el tipo de variación que ha sufrido la secuencia, una inserción (el alelo de referencia es más corto que el alternativo), una delección (el alelo de referencia tiene una mayor longitud que el alternativo) y un reemplazo (el alelo de referencia y el alternativo presentan la misma longitud). \n",
    "   \n",
    "3. Realizamos la modificación de la secuencia del exón con el alelo mutado.  "
   ]
  },
  {
   "cell_type": "code",
   "execution_count": 29,
   "id": "f0020065-6473-409f-8333-edefb21ba0fd",
   "metadata": {},
   "outputs": [],
   "source": [
    "def obtener_secuencia_variantes_exon (diccionario_variantes_exon, exones, exon_fasta):\n",
    "\n",
    "    for ex in exones:\n",
    "        if ex[\"id\"] == exon_fasta.id:\n",
    "            inicio_exon = ex[\"start\"]\n",
    "            final_exon = ex[\"end\"]\n",
    "            sec_exon_fasta = exon_fasta.seq\n",
    "            \n",
    "            secs =[]\n",
    "            \n",
    "            for var in diccionario_variantes_exon.values():\n",
    "                if len(var[\"alleles\"][0]) > len(var[\"alleles\"][1]):\n",
    "                    longitud_variante = len(var[\"alleles\"][0])\n",
    "                    inicio_variante = final_exon - var[\"start\"] - len(var[\"alleles\"][0])\n",
    "                    secuencia_variante = sec_exon_fasta[:inicio_variante+1]+var[\"alleles\"][1]+sec_exon_fasta[inicio_variante+longitud_variante+1:]\n",
    "                    secs.append ([var[\"id\"],secuencia_variante])\n",
    "\n",
    "                elif len(var[\"alleles\"][0]) < len(var[\"alleles\"][1]):\n",
    "                    longitud_variante = len(var[\"alleles\"][0])\n",
    "                    inicio_variante = final_exon - var[\"start\"] - len(var[\"alleles\"][0])\n",
    "                    secuencia_variante = sec_exon_fasta[:inicio_variante+1]+var[\"alleles\"][1]+sec_exon_fasta[inicio_variante+longitud_variante+1:]\n",
    "                    secs.append ([var[\"id\"],secuencia_variante])\n",
    "\n",
    "                else:\n",
    "                    longitud_variante = len(var[\"alleles\"][0])\n",
    "                    inicio_variante = final_exon - var[\"start\"]\n",
    "                    secuencia_variante = sec_exon_fasta[:inicio_variante]+var[\"alleles\"][1]+sec_exon_fasta[inicio_variante+longitud_variante:]\n",
    "                    secs.append ([var[\"id\"],secuencia_variante])\n",
    "                    \n",
    "                    \n",
    "\n",
    "    return secs\n",
    "        "
   ]
  },
  {
   "cell_type": "code",
   "execution_count": null,
   "id": "5dfd59d9-aecb-4f7f-a21e-aa234cc858b0",
   "metadata": {},
   "outputs": [],
   "source": []
  },
  {
   "cell_type": "markdown",
   "id": "7322e856-2d7d-4883-bbca-0b212714eb5f",
   "metadata": {},
   "source": [
    "## Obtención de la secuencia de las variantes patogénicas en formato fasta\n",
    "\n",
    "Como las variantes que hemos obtenido en un primer paso de obtención de variantes sabemos que corresponden a humanos, no necesitamso especificar la especie en este caso.\n",
    "\n",
    "Vamos a crear un objeto tipo SeqRecord con los datos de la variante y lo vamos a almacenar en un archivo de tipo fasta"
   ]
  },
  {
   "cell_type": "code",
   "execution_count": 446,
   "id": "e867b518-983e-4a2e-aa1e-9517cde7d470",
   "metadata": {},
   "outputs": [],
   "source": [
    "def obtener_secuencia_variantes_fasta (diccionario_variantes_exon, secuencia_variantes, nombre_archivo_fasta, exon_fasta):\n",
    "    lista_secuencias = []\n",
    "\n",
    "    for var in diccionario_variantes_exon.values():\n",
    "        for seq in secuencia_variantes:\n",
    "            if var[\"id\"] == seq[0]:\n",
    "                secuencia_fasta = SeqRecord (Seq(seq[1]))\n",
    "                secuencia_fasta.id = var[\"id\"]\n",
    "                secuencia_fasta.name = var[\"id\"]\n",
    "                secuencia_fasta.description = str(var[\"clinical_significance\"]) + str (exon_fasta.id) + str (exon_fasta.description)\n",
    "                lista_secuencias.append (secuencia_fasta)\n",
    "\n",
    "    SeqIO.write(lista_secuencias, nombre_archivo_fasta, \"fasta\")\n",
    "\n",
    "    print (\"Las secuencias de las variantes se han guardado en formato fasta\")\n",
    "                \n",
    "        \n",
    "    \n",
    "    "
   ]
  },
  {
   "cell_type": "code",
   "execution_count": null,
   "id": "a71eeed2-e010-4c65-ae7c-8bf953de0a60",
   "metadata": {},
   "outputs": [],
   "source": []
  }
 ],
 "metadata": {
  "kernelspec": {
   "display_name": "Python 3 (ipykernel)",
   "language": "python",
   "name": "python3"
  },
  "language_info": {
   "codemirror_mode": {
    "name": "ipython",
    "version": 3
   },
   "file_extension": ".py",
   "mimetype": "text/x-python",
   "name": "python",
   "nbconvert_exporter": "python",
   "pygments_lexer": "ipython3",
   "version": "3.9.7"
  }
 },
 "nbformat": 4,
 "nbformat_minor": 5
}
