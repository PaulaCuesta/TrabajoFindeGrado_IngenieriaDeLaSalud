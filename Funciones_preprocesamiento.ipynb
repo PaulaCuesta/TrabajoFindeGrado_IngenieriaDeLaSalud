{
 "cells": [
  {
   "cell_type": "code",
   "execution_count": 32,
   "id": "d140f5d4-ef29-4db2-a1ad-5a8a01fd0c9e",
   "metadata": {},
   "outputs": [],
   "source": [
    "import requests\n",
    "import json  ### Intentar cambiar el formato JSON por uno más específico de Python\n",
    "import sys\n",
    "from Bio impor SeqIO\n",
    "from Bio.SeqRecord import SeqRecord"
   ]
  },
  {
   "cell_type": "code",
   "execution_count": 1,
   "id": "84be7616-c8d0-4635-8608-c368c8ec2fa4",
   "metadata": {},
   "outputs": [
    {
     "name": "stdout",
     "output_type": "stream",
     "text": [
      "Hola\n"
     ]
    }
   ],
   "source": [
    "print(\"Hola\")"
   ]
  },
  {
   "cell_type": "markdown",
   "id": "0f9dbc0d-0dac-4c7e-b048-6c0dc033ac66",
   "metadata": {},
   "source": [
    "- https://rest.ensembl.org: REST API de Ensembl\n",
    "- overlap/id: Endpoint específico de la API (es decir, método de acceso a las variantes de un determinado gen así como a información específica del mismo a través del identificador (id)\n",
    "- feature = variation --> lo que queremos obtener son las variaciones de dicho gen\n",
    "- species = {especie}, en nuestro caso queremos que sea en humano, pero la función también nos sirve para otras especies\n",
    "\n",
    "- solicitud = requests.get(rest_api+extension_variantes, headers={ \"Content-Type\" : \"application/json\"}) --> Hace una solicitud HTTP al servidor Ensembl, con la información que hemos escrito previamente a través de la biblioteca requests (sirve para esto)\n",
    "  1. requests.get() --> Envía una solicitud HTTP al servidor que indiquemos a continuación\n",
    "  2. headers = {\"Content-Type\" : \"application/json\"} --> es un parámetro opcional que indica que la información que devuelva la solicitud que hemos hecho se encuentre en formato JSON\n",
    " \n",
    "\n",
    "\n",
    "1. \"solicitud.ok\" --> Esto se utiliza para saber si la solicitud ha sido exitosa y hemos obtenido respuesta por parte del servidor.\n",
    "2. \"solicitud.raise_for_status() --> De esta forma podemos manejar los errores que hayan podido surgir durante la misma\n",
    "3. \"sys.exit()\" --> Se utiliza para terminar el programa en ese punto exacto, es decir, después de realizar la consulta a Ensembl\n",
    "\n",
    "\n",
    "- variantes = solicitud.json() --> Esto indica que la información que ha devuelto nuestra consulta, la cual se encuentra en formato JSON, se almacene en un diccionario de Python, para poder procesar dicha información más adelante"
   ]
  },
  {
   "cell_type": "markdown",
   "id": "2d92a3fb-48ed-4b2c-b8a6-c61ab39bc580",
   "metadata": {},
   "source": [
    "## Aceso a todas las variantes de un gen a través de la API de Ensembl"
   ]
  },
  {
   "cell_type": "code",
   "execution_count": 33,
   "id": "c82c3801-8015-47d0-9456-c1dd0cdb46f2",
   "metadata": {},
   "outputs": [],
   "source": [
    "def acceso_variantes_ensembl (identificador_gen, especie):\n",
    "    \"\"\" \n",
    "    DESCRIPCIÓN DE LA FUNCIÓN\"\"\"\n",
    "    \n",
    "    rest_api = \"https://rest.ensembl.org\"\n",
    "    extension_variantes = f\"/overlap/id/{identificador_gen}?feature=variation;species={especie}\"\n",
    "\n",
    "    solicitud = requests.get(rest_api+extension_variantes, headers={\"Content-Type\" : \"application/json\"})\n",
    "\n",
    "\n",
    "    if not solicitud.ok:\n",
    "        solicitud.raise_for_status()\n",
    "        sys.exit()\n",
    "\n",
    "    variantes = solicitud.json()\n",
    "    \n",
    "    return variantes\n",
    "\n"
   ]
  },
  {
   "cell_type": "markdown",
   "id": "5144eeac-41ae-4e75-a654-732788b1ad98",
   "metadata": {},
   "source": [
    "## Obtención de las variantes patogénicas a partir de las variantes que hemos obtenido de la API de Ensembl"
   ]
  },
  {
   "cell_type": "code",
   "execution_count": 34,
   "id": "1a78bc13-af30-47af-9959-7976e2af79ed",
   "metadata": {},
   "outputs": [],
   "source": [
    "def obtener_variantes_patogenicas (identificador_gen, especie):\n",
    "    \"\"\"\n",
    "    DESCRIPCIÓN DE LA FUNCIÓN\n",
    "    \"\"\"\n",
    "\n",
    "    variantes = acceso_variantes_ensembl (identificador_gen, especie)\n",
    "    variantes_patogenicas = []\n",
    "\n",
    "    for var in variantes:\n",
    "        if \"clinical_significance\" in var and \"pathogenic\" in var[\"clinical_significance\"]:\n",
    "            variantes_patogenicas.append(var)\n",
    "\n",
    "\n",
    "    return variantes_patogenicas\n",
    "            "
   ]
  },
  {
   "cell_type": "markdown",
   "id": "4a3d7ace-8946-4d68-9bdf-56ac97f21d53",
   "metadata": {},
   "source": [
    "## Obtención de las variantes benignas a partir de las variantes que hemos obtenido de la API de Ensembl"
   ]
  },
  {
   "cell_type": "code",
   "execution_count": 36,
   "id": "6070a3be-eaac-4ac5-987a-8f4349958387",
   "metadata": {},
   "outputs": [],
   "source": [
    "def obtener_variantes_benignas (identificador_gen, especie):\n",
    "    \"\"\"\n",
    "    DESCRIPCIÓN DE LA FUNCIÓN\n",
    "    \"\"\"\n",
    "\n",
    "    variantes = acceso_variantes_ensembl (identificador_gen, especie)\n",
    "    variantes_benignas = []\n",
    "\n",
    "    for var in variantes:\n",
    "        if \"clinical_significance\" in var and \"benign\" in var[\"clinical_significance\"]:\n",
    "            variantes_benignas.append(var)\n",
    "\n",
    "\n",
    "    return variantes_benignas\n",
    "            "
   ]
  },
  {
   "cell_type": "code",
   "execution_count": 37,
   "id": "dea3faa7-69d3-406f-b625-229d4e8f3fe4",
   "metadata": {},
   "outputs": [],
   "source": [
    "variantes_patogenicas = obtener_variantes_patogenicas (\"ENSG00000141510\", \"human\")"
   ]
  },
  {
   "cell_type": "code",
   "execution_count": 143,
   "id": "c443b145-343e-41c7-8cdb-f5273e676678",
   "metadata": {},
   "outputs": [
    {
     "name": "stdout",
     "output_type": "stream",
     "text": [
      "rs1555523630\n",
      "rs730882017\n",
      "rs2150988776\n",
      "rs876658982\n",
      "rs587781664\n"
     ]
    }
   ],
   "source": [
    "for i in variantes_patogenicas[:5]:\n",
    "    print (i[\"id\"])"
   ]
  },
  {
   "cell_type": "markdown",
   "id": "1e268137-9c88-4b80-9d38-20baf687de07",
   "metadata": {},
   "source": [
    "## Obtención de la secuencia de las variantes, tanto patogénicas, como benignas\n",
    "\n",
    "Como al utilizar la API de Ensembl para obtener las variantes no obtenemos la secuencia completa del gen con estas variaciones, sino que solo obtenemos los nucleótidos que han sufrido la variación. Para obtener dichas secuencias con las variaciones es necesario seguir dos pasos:\n",
    "\n",
    "1. Obtenemos la secuencia de referencia del gen.\n",
    "   \n",
    "3. Aplicamos las variaciones que hemos obtenido a través de la API sobre la secuencia de referencia del gen. "
   ]
  },
  {
   "cell_type": "code",
   "execution_count": 77,
   "id": "2a3f45bb-65cd-4351-91f6-ab74922ee3dc",
   "metadata": {},
   "outputs": [],
   "source": [
    "def obtener_secuencia_variante (identificador_variante):\n",
    "\n",
    "    rest_api = \"https://rest.ensembl.org\"\n",
    "    extension_variantes = f\"/variation/homo_sapiens/{identificador_variante}?content-type=application/json\"\n",
    "\n",
    "    solicitud = requests.get(rest_api+extension_variantes, headers={\"Content-Type\" : \"application/json\"})\n",
    "\n",
    "\n",
    "    if not solicitud.ok:\n",
    "        solicitud.raise_for_status()\n",
    "        sys.exit()\n",
    "\n",
    "    variante_informacion = solicitud.json()\n",
    "    print (variante_informacion)\n",
    "    \n",
    "    #Ahora vamos a obtener la información relativa a la localización de la variante en la secuencia\n",
    "\n",
    "    localizacion = variante_informacion[\"mappings\"][0]\n",
    "    cromosoma = localizacion[\"seq_region_name\"]\n",
    "    inicio_variante = localizacion[\"start\"]\n",
    "    fin_variante = localizacion[\"end\"]\n",
    "\n",
    "    flanco_secuencia = 100\n",
    "    inicio_secuencia = inicio_variante - flanco_secuencia\n",
    "    fin_secuencia = fin_variante + flanco_secuencia\n",
    "\n",
    "    extension_secuencia_variantes = f\"/sequence/region/human/{cromosoma}:{inicio_secuencia}..{fin_secuencia}:1?content-type=text/plain\"\n",
    "    solicitud2 = requests.get(rest_api+extension_secuencia_variantes, headers={\"Content-Type\": \"text/plain\"})\n",
    "\n",
    "    if not solicitud2.ok:\n",
    "        solicitud2.raise_for_status()\n",
    "        sys.exit()\n",
    "\n",
    "    secuencia_variante = solicitud2.text\n",
    "        \n",
    "    print (secuencia_variante)\n",
    "    return secuencia_variante\n",
    "\n",
    "        \n",
    "    "
   ]
  },
  {
   "cell_type": "code",
   "execution_count": 79,
   "id": "e42df074-4d1c-453c-99cc-94b1fcb398a4",
   "metadata": {},
   "outputs": [
    {
     "name": "stdout",
     "output_type": "stream",
     "text": [
      "{'evidence': ['Cited', 'Phenotype_or_Disease'], 'ambiguity': 'N', 'minor_allele': None, 'source': 'Variants (including SNPs and indels) imported from dbSNP', 'clinical_significance': ['not provided', 'likely pathogenic', 'pathogenic'], 'MAF': None, 'name': 'rs587781664', 'most_severe_consequence': 'splice_acceptor_variant', 'mappings': [{'allele_string': 'T/A/C/G', 'end': 7669692, 'strand': 1, 'assembly_name': 'GRCh38', 'location': '17:7669692-7669692', 'ancestral_allele': 'T', 'coord_system': 'chromosome', 'seq_region_name': '17', 'start': 7669692}], 'var_class': 'SNP', 'synonyms': ['VCV000635383', 'RCV000786810', 'VCV000141332', 'RCV000206779', 'RCV002288631', 'RCV000129814', 'VCV001264355', 'RCV000213070', 'RCV001667873', 'TP53_g.17908A>G']}\n",
      "ACAAGAAGTGGAGAATGTCAGTCTGAGTCAGGCCCTTCTGTCTTGAACATGAGTTTTTTATGGCGGGAGGTAGACTGACCCTTTTTGGACTTCAGGTGGCTGTAGGAGACAGAAGCAGGGAGGAGAGATGACATCACATGAGTGAGAGGGTCTGTGCCCCTTTTCCCTGACCAATGCTTTGAAGGGCCTAAGGCTGGGACA\n"
     ]
    },
    {
     "data": {
      "text/plain": [
       "'ACAAGAAGTGGAGAATGTCAGTCTGAGTCAGGCCCTTCTGTCTTGAACATGAGTTTTTTATGGCGGGAGGTAGACTGACCCTTTTTGGACTTCAGGTGGCTGTAGGAGACAGAAGCAGGGAGGAGAGATGACATCACATGAGTGAGAGGGTCTGTGCCCCTTTTCCCTGACCAATGCTTTGAAGGGCCTAAGGCTGGGACA'"
      ]
     },
     "execution_count": 79,
     "metadata": {},
     "output_type": "execute_result"
    }
   ],
   "source": [
    "obtener_secuencia_variante (\"rs587781664\")"
   ]
  },
  {
   "cell_type": "code",
   "execution_count": 76,
   "id": "e3c263e6-ce2f-4a99-91b0-2620cfb875ef",
   "metadata": {},
   "outputs": [
    {
     "name": "stdout",
     "output_type": "stream",
     "text": [
      "True\n"
     ]
    }
   ],
   "source": [
    "\n",
    "sec1 = \"GGTGAGAGGCTGCCGAGGGGGAAGCAGCCCAGTCCTAGAAGCAGGGGAGGGAGAGAACCTTGTGCCAGCCGTGGCCGGAGGGGAGGAGGGACGGTTGGTTCCTGAGTTATGAATGGAGCCACCCCCTCCCTTGTTGTCATGCAGCCCGCAGACTGACCCAGTCTCCAGCCTTTGTTCCCCTCCCGGAACCCGGGCACTGGGC\"\n",
    "sec2 = \"GGTGAGAGGCTGCCGAGGGGGAAGCAGCCCAGTCCTAGAAGCAGGGGAGGGAGAGAACCTTGTGCCAGCCGTGGCCGGAGGGGAGGAGGGACGGTTGGTTCCTGAGTTATGAATGGAGCCACCCCCTCCCTTGTTGTCATGCAGCCCGCAGACTGACCCAGTCTCCAGCCTTTGTTCCCCTCCCGGAACCCGGGCACTGGGC\"\n",
    "print (sec1 == sec2)"
   ]
  },
  {
   "cell_type": "code",
   "execution_count": 52,
   "id": "70870f84-dea1-4cda-814c-db5766670ffe",
   "metadata": {},
   "outputs": [],
   "source": [
    "def variantes_region (identificador_gen, especie, cromosoma_gen, pos_inicio, pos_fin):\n",
    "    variantes_patogenicas = obtener_variantes_patogenicas (identificador_gen, especie)\n",
    "    diccionario_variantes = {}\n",
    "\n",
    "    for i in variantes_patogenicas:\n",
    "        rest_api = \"https://rest.ensembl.org\"\n",
    "        extension_variantes = f\"/variation/homo_sapiens/{identificador_variante}?content-type=application/json\"\n",
    "\n",
    "        solicitud = requests.get(rest_api+extension_variantes, headers={\"Content-Type\" : \"application/json\"})\n",
    "\n",
    "\n",
    "        if not solicitud.ok:\n",
    "            solicitud.raise_for_status()\n",
    "            sys.exit()\n",
    "\n",
    "        variante_informacion = solicitud.json()\n",
    "    \n",
    "    #Ahora vamos a obtener la información relativa a la localización de la variante en la secuencia\n",
    "\n",
    "        localizacion = variante_informacion[\"mappings\"][0]\n",
    "        cromosoma = localizacion[\"seq_region_name\"]\n",
    "        inicio_variante = localizacion[\"start\"]\n",
    "        fin_variante = localizacion[\"end\"]\n",
    "\n",
    "\n",
    "        if cromosoma == cromosoma_gen and inicio_variante > pos_inicio and inicio_variante < pos_fin and fin_variante > pos_inicio and fin_variante < pos_fin:\n",
    "            diccionario_variantes[i[\"id\"]] = i\n",
    "\n",
    "    return diccionario_variantes\n",
    "\n",
    "\n",
    "        \n",
    "\n",
    "    \n",
    "    "
   ]
  },
  {
   "cell_type": "code",
   "execution_count": 66,
   "id": "34bd7c19-eb75-4f21-9e20-aa84ff5c0c6f",
   "metadata": {},
   "outputs": [],
   "source": [
    "def guardar_fasta (identificador_variante):\n",
    "    x = SeqRecord(Seq((obtener_secuencia_variante(identificador_variante))))\n",
    "    SeqIO.write (x, \"secuencia.fasta\", \"fasta\")\n",
    "    "
   ]
  },
  {
   "cell_type": "code",
   "execution_count": 67,
   "id": "4f77e3fb-f998-4fde-8f65-fdde4d8a133a",
   "metadata": {},
   "outputs": [],
   "source": [
    "def obtener_secuencia_gen(id_gen):\n",
    "    rest_api = \"https://rest.ensembl.org\"\n",
    "    extension_gen = f\"/sequence/id/{id_gen}?content-type=text/plain\"\n",
    "    \n",
    "    solicitud = requests.get(rest_api + extension_gen, headers={\"Content-Type\": \"text/plain\"})\n",
    "\n",
    "    if not solicitud.ok:\n",
    "        solicitud.raise_for_status()\n",
    "        return None\n",
    "\n",
    "    secuencia_gen = solicitud.text"
   ]
  },
  {
   "cell_type": "code",
   "execution_count": 73,
   "id": "5aceb14b-f91e-43db-b10a-414daef98fb5",
   "metadata": {},
   "outputs": [],
   "source": [
    "x = obtener_secuencia_gen (\"ENSG00000141510\")"
   ]
  },
  {
   "cell_type": "code",
   "execution_count": null,
   "id": "a71eeed2-e010-4c65-ae7c-8bf953de0a60",
   "metadata": {},
   "outputs": [],
   "source": []
  }
 ],
 "metadata": {
  "kernelspec": {
   "display_name": "Python 3 (ipykernel)",
   "language": "python",
   "name": "python3"
  },
  "language_info": {
   "codemirror_mode": {
    "name": "ipython",
    "version": 3
   },
   "file_extension": ".py",
   "mimetype": "text/x-python",
   "name": "python",
   "nbconvert_exporter": "python",
   "pygments_lexer": "ipython3",
   "version": "3.11.7"
  }
 },
 "nbformat": 4,
 "nbformat_minor": 5
}
