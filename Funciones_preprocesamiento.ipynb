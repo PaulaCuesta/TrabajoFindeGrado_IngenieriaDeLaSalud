{
 "cells": [
  {
   "cell_type": "code",
   "execution_count": 134,
   "id": "d140f5d4-ef29-4db2-a1ad-5a8a01fd0c9e",
   "metadata": {},
   "outputs": [],
   "source": [
    "import requests\n",
    "import json  ### Intentar cambiar el formato JSON por uno más específico de Python\n",
    "import sys\n",
    "from Bio import SeqIO\n",
    "from Bio.Seq import Seq\n",
    "from Bio.SeqRecord import SeqRecord"
   ]
  },
  {
   "cell_type": "markdown",
   "id": "2d92a3fb-48ed-4b2c-b8a6-c61ab39bc580",
   "metadata": {},
   "source": [
    "## Aceso a todas las variantes de un gen a través de la API de Ensembl"
   ]
  },
  {
   "cell_type": "code",
   "execution_count": 135,
   "id": "c82c3801-8015-47d0-9456-c1dd0cdb46f2",
   "metadata": {},
   "outputs": [],
   "source": [
    "def acceso_variantes_ensembl (identificador_gen, especie):\n",
    "    \"\"\" \n",
    "    DESCRIPCIÓN DE LA FUNCIÓN\"\"\"\n",
    "    \n",
    "    rest_api = \"https://rest.ensembl.org\"\n",
    "    extension_variantes = f\"/overlap/id/{identificador_gen}?feature=variation;species={especie}\"\n",
    "\n",
    "    solicitud = requests.get(rest_api+extension_variantes, headers={\"Content-Type\" : \"application/json\"})\n",
    "\n",
    "\n",
    "    if not solicitud.ok:\n",
    "        solicitud.raise_for_status()\n",
    "        sys.exit()\n",
    "\n",
    "    variantes = solicitud.json()\n",
    "    \n",
    "    return variantes\n",
    "\n"
   ]
  },
  {
   "cell_type": "markdown",
   "id": "5144eeac-41ae-4e75-a654-732788b1ad98",
   "metadata": {},
   "source": [
    "## Obtención de las variantes patogénicas a partir de las variantes que hemos obtenido de la API de Ensembl"
   ]
  },
  {
   "cell_type": "code",
   "execution_count": 136,
   "id": "1a78bc13-af30-47af-9959-7976e2af79ed",
   "metadata": {},
   "outputs": [],
   "source": [
    "def obtener_variantes_patogenicas (identificador_gen, especie):\n",
    "    \"\"\"\n",
    "    DESCRIPCIÓN DE LA FUNCIÓN\n",
    "    \"\"\"\n",
    "\n",
    "    variantes = acceso_variantes_ensembl (identificador_gen, especie)\n",
    "    variantes_patogenicas = []\n",
    "\n",
    "    for var in variantes:\n",
    "        if \"clinical_significance\" in var and \"pathogenic\" in var[\"clinical_significance\"]:\n",
    "            variantes_patogenicas.append(var)\n",
    "\n",
    "\n",
    "    return variantes_patogenicas\n",
    "            "
   ]
  },
  {
   "cell_type": "markdown",
   "id": "4a3d7ace-8946-4d68-9bdf-56ac97f21d53",
   "metadata": {},
   "source": [
    "## Obtención de las variantes benignas a partir de las variantes que hemos obtenido de la API de Ensembl"
   ]
  },
  {
   "cell_type": "code",
   "execution_count": 137,
   "id": "6070a3be-eaac-4ac5-987a-8f4349958387",
   "metadata": {},
   "outputs": [],
   "source": [
    "def obtener_variantes_benignas (identificador_gen, especie):\n",
    "    \"\"\"\n",
    "    DESCRIPCIÓN DE LA FUNCIÓN\n",
    "    \"\"\"\n",
    "\n",
    "    variantes = acceso_variantes_ensembl (identificador_gen, especie)\n",
    "    variantes_benignas = []\n",
    "\n",
    "    for var in variantes:\n",
    "        if \"clinical_significance\" in var and \"benign\" in var[\"clinical_significance\"]:\n",
    "            variantes_benignas.append(var)\n",
    "\n",
    "\n",
    "    return variantes_benignas\n",
    "            "
   ]
  },
  {
   "cell_type": "code",
   "execution_count": 138,
   "id": "93c7a871-569c-4785-88d1-129a033c6dd6",
   "metadata": {},
   "outputs": [],
   "source": [
    "variantes_benignas = obtener_variantes_benignas (\"ENST00000269305\", \"human\")"
   ]
  },
  {
   "cell_type": "code",
   "execution_count": 140,
   "id": "2fb265f5-e252-4f53-acd0-25bc256576d2",
   "metadata": {},
   "outputs": [
    {
     "name": "stdout",
     "output_type": "stream",
     "text": [
      "{'id': 'rs78378222', 'clinical_significance': ['uncertain significance', 'benign', 'risk factor'], 'assembly_name': 'GRCh38', 'start': 7668434, 'seq_region_name': '17', 'strand': 1, 'feature_type': 'variation', 'source': 'dbSNP', 'alleles': ['T', 'G'], 'consequence_type': '3_prime_UTR_variant', 'end': 7668434}\n",
      "{'start': 7668539, 'clinical_significance': ['benign', 'likely benign'], 'assembly_name': 'GRCh38', 'id': 'rs114831472', 'end': 7668539, 'source': 'dbSNP', 'feature_type': 'variation', 'alleles': ['G', 'A', 'C'], 'consequence_type': '3_prime_UTR_variant', 'seq_region_name': '17', 'strand': 1}\n",
      "{'seq_region_name': '17', 'strand': 1, 'alleles': ['C', 'A', 'G', 'T'], 'feature_type': 'variation', 'source': 'dbSNP', 'consequence_type': '3_prime_UTR_variant', 'end': 7668783, 'id': 'rs17884306', 'clinical_significance': ['benign'], 'assembly_name': 'GRCh38', 'start': 7668783}\n",
      "{'seq_region_name': '17', 'strand': 1, 'consequence_type': '3_prime_UTR_variant', 'alleles': ['G', 'A', 'T'], 'feature_type': 'variation', 'source': 'dbSNP', 'end': 7668836, 'id': 'rs200378797', 'assembly_name': 'GRCh38', 'clinical_significance': ['benign'], 'start': 7668836}\n",
      "{'consequence_type': '3_prime_UTR_variant', 'alleles': ['G', 'C', 'T'], 'feature_type': 'variation', 'source': 'dbSNP', 'strand': 1, 'seq_region_name': '17', 'end': 7668996, 'assembly_name': 'GRCh38', 'clinical_significance': ['benign'], 'id': 'rs17879353', 'start': 7668996}\n"
     ]
    }
   ],
   "source": [
    "for i in variantes_benignas[:5]:\n",
    "    print (i)"
   ]
  },
  {
   "cell_type": "code",
   "execution_count": 141,
   "id": "dea3faa7-69d3-406f-b625-229d4e8f3fe4",
   "metadata": {},
   "outputs": [],
   "source": [
    "variantes_patogenicas = obtener_variantes_patogenicas (\"ENST00000269305\", \"human\")"
   ]
  },
  {
   "cell_type": "code",
   "execution_count": 142,
   "id": "c443b145-343e-41c7-8cdb-f5273e676678",
   "metadata": {},
   "outputs": [
    {
     "name": "stdout",
     "output_type": "stream",
     "text": [
      "{'clinical_significance': ['pathogenic'], 'seq_region_name': '17', 'id': 'rs730882017', 'feature_type': 'variation', 'end': 7669666, 'consequence_type': 'frameshift_variant', 'assembly_name': 'GRCh38', 'source': 'dbSNP', 'start': 7669666, 'alleles': ['C', '-'], 'strand': 1}\n",
      "{'start': 7669673, 'alleles': ['TTTTT', 'TTTT'], 'strand': 1, 'feature_type': 'variation', 'end': 7669677, 'consequence_type': 'frameshift_variant', 'assembly_name': 'GRCh38', 'source': 'dbSNP', 'clinical_significance': ['uncertain significance', 'pathogenic'], 'seq_region_name': '17', 'id': 'rs2150988776'}\n",
      "{'strand': 1, 'alleles': ['C', 'A', 'T'], 'start': 7669691, 'source': 'dbSNP', 'assembly_name': 'GRCh38', 'consequence_type': 'splice_acceptor_variant', 'feature_type': 'variation', 'end': 7669691, 'id': 'rs876658982', 'seq_region_name': '17', 'clinical_significance': ['likely pathogenic', 'pathogenic']}\n",
      "{'feature_type': 'variation', 'end': 7669692, 'consequence_type': 'splice_acceptor_variant', 'assembly_name': 'GRCh38', 'source': 'dbSNP', 'start': 7669692, 'alleles': ['T', 'A', 'C', 'G'], 'strand': 1, 'clinical_significance': ['not provided', 'likely pathogenic', 'pathogenic'], 'seq_region_name': '17', 'id': 'rs587781664'}\n",
      "{'consequence_type': 'frameshift_variant', 'feature_type': 'variation', 'end': 7670631, 'assembly_name': 'GRCh38', 'source': 'dbSNP', 'alleles': ['CCCCCC', 'CCCCC'], 'start': 7670626, 'strand': 1, 'clinical_significance': ['pathogenic'], 'seq_region_name': '17', 'id': 'rs1555524354'}\n"
     ]
    }
   ],
   "source": [
    "for i in variantes_patogenicas[:5]:\n",
    "    print (i)"
   ]
  },
  {
   "cell_type": "code",
   "execution_count": null,
   "id": "7b74edb7-b58b-4db3-a46c-1d63e65b143a",
   "metadata": {},
   "outputs": [],
   "source": []
  },
  {
   "cell_type": "markdown",
   "id": "3c8b7cd8-8847-4aca-b80b-9876b52171c3",
   "metadata": {},
   "source": [
    "## Obtención de la localización de las variantes"
   ]
  },
  {
   "cell_type": "code",
   "execution_count": 159,
   "id": "23274a04-b22a-4f64-b293-4132958f0bbf",
   "metadata": {},
   "outputs": [],
   "source": [
    "def obtener_localizacion_variantes (variantes):\n",
    "\n",
    "    diccionario_posiciones_variantes = {}\n",
    "\n",
    "    for var in variantes:\n",
    "        inicio = var[\"start\"]\n",
    "        final = var[\"end\"]\n",
    "        longitud = final - (inicio - 1)\n",
    "        diccionario_posiciones_variantes[var[\"id\"]] = [inicio, final, longitud]\n",
    "    \n",
    "    return diccionario_posiciones_variantes\n",
    "        "
   ]
  },
  {
   "cell_type": "markdown",
   "id": "b573fedd-1e64-437c-ae1b-933e09ac0a22",
   "metadata": {},
   "source": [
    "## Obtención de los exones"
   ]
  },
  {
   "cell_type": "code",
   "execution_count": 148,
   "id": "c909d7e1-3986-424e-86a1-8a32bc23ad96",
   "metadata": {},
   "outputs": [],
   "source": [
    "def obtener_exones_gen (identificador_transcrito, especie):\n",
    "    \n",
    "    rest_api = \"https://rest.ensembl.org\"\n",
    "    extension_exones = f\"/lookup/id/{identificador_transcrito}?expand=1&species={especie}\"\n",
    "\n",
    "    solicitud = requests.get(rest_api+extension_exones, headers={\"Content-Type\" : \"application/json\"})\n",
    "\n",
    "    if not solicitud.ok:\n",
    "        solicitud.raise_for_status()\n",
    "        sys.exit()\n",
    "\n",
    "    exones = solicitud.json()\n",
    "\n",
    "    return exones[\"Exon\"]\n",
    "\n",
    "    "
   ]
  },
  {
   "cell_type": "code",
   "execution_count": 149,
   "id": "166102b0-2498-4e02-8b6d-54ab658610c9",
   "metadata": {},
   "outputs": [
    {
     "name": "stdout",
     "output_type": "stream",
     "text": [
      "{'id': 'ENSE00003753508', 'strand': -1, 'seq_region_name': '17', 'species': 'homo_sapiens', 'version': 2, 'object_type': 'Exon', 'end': 7687490, 'start': 7687377, 'assembly_name': 'GRCh38', 'db_type': 'core'}\n",
      "{'strand': -1, 'id': 'ENSE00004023728', 'object_type': 'Exon', 'seq_region_name': '17', 'species': 'homo_sapiens', 'version': 1, 'start': 7676521, 'db_type': 'core', 'assembly_name': 'GRCh38', 'end': 7676622}\n",
      "{'strand': -1, 'id': 'ENSE00002419584', 'start': 7676382, 'assembly_name': 'GRCh38', 'db_type': 'core', 'end': 7676403, 'object_type': 'Exon', 'version': 1, 'seq_region_name': '17', 'species': 'homo_sapiens'}\n",
      "{'id': 'ENSE00003625790', 'strand': -1, 'version': 1, 'seq_region_name': '17', 'species': 'homo_sapiens', 'object_type': 'Exon', 'end': 7676272, 'assembly_name': 'GRCh38', 'start': 7675994, 'db_type': 'core'}\n",
      "{'id': 'ENSE00003518480', 'strand': -1, 'start': 7675053, 'assembly_name': 'GRCh38', 'db_type': 'core', 'end': 7675236, 'version': 1, 'seq_region_name': '17', 'species': 'homo_sapiens', 'object_type': 'Exon'}\n",
      "{'end': 7674971, 'assembly_name': 'GRCh38', 'start': 7674859, 'db_type': 'core', 'version': 1, 'seq_region_name': '17', 'species': 'homo_sapiens', 'object_type': 'Exon', 'id': 'ENSE00003723991', 'strand': -1}\n",
      "{'id': 'ENSE00003712342', 'strand': -1, 'species': 'homo_sapiens', 'seq_region_name': '17', 'version': 1, 'object_type': 'Exon', 'start': 7674181, 'db_type': 'core', 'assembly_name': 'GRCh38', 'end': 7674290}\n",
      "{'object_type': 'Exon', 'seq_region_name': '17', 'species': 'homo_sapiens', 'version': 1, 'end': 7673837, 'db_type': 'core', 'start': 7673701, 'assembly_name': 'GRCh38', 'strand': -1, 'id': 'ENSE00003725258'}\n",
      "{'object_type': 'Exon', 'seq_region_name': '17', 'version': 1, 'species': 'homo_sapiens', 'db_type': 'core', 'start': 7673535, 'assembly_name': 'GRCh38', 'end': 7673608, 'strand': -1, 'id': 'ENSE00003786593'}\n",
      "{'species': 'homo_sapiens', 'seq_region_name': '17', 'version': 1, 'object_type': 'Exon', 'end': 7670715, 'start': 7670609, 'db_type': 'core', 'assembly_name': 'GRCh38', 'id': 'ENSE00003545950', 'strand': -1}\n",
      "{'version': 1, 'seq_region_name': '17', 'species': 'homo_sapiens', 'object_type': 'Exon', 'end': 7669690, 'db_type': 'core', 'start': 7668421, 'assembly_name': 'GRCh38', 'id': 'ENSE00004023724', 'strand': -1}\n"
     ]
    }
   ],
   "source": [
    "exones = obtener_exones_gen (\"ENST00000269305\", \"human\")\n",
    "\n",
    "for i in exones:\n",
    "    print(i)"
   ]
  },
  {
   "cell_type": "markdown",
   "id": "536bce29-1433-45d3-b27f-ab106e7bf5df",
   "metadata": {},
   "source": [
    "## Obtención de la secuencia de los exones en formato fasta"
   ]
  },
  {
   "cell_type": "code",
   "execution_count": 413,
   "id": "f933362e-3e96-41a8-ad76-761b2f7c98e5",
   "metadata": {},
   "outputs": [],
   "source": [
    "def obtener_secuencia_exones_fasta (identificador_transcrito, especie, nombre_archivo_fasta):\n",
    "    exones = obtener_exones_gen (identificador_transcrito, especie)\n",
    "\n",
    "    lista_secuencias = []\n",
    "\n",
    "    contador = 1\n",
    "\n",
    "    for ex in exones:\n",
    "        identificador_exon = ex[\"id\"]\n",
    "\n",
    "        rest_api = \"https://rest.ensembl.org\"\n",
    "        extension_secuencia_exon = f\"/sequence/id/{identificador_exon}?content-type=text/x-fasta\"\n",
    "\n",
    "        solicitud2 = requests.get(rest_api+extension_secuencia_exon, headers={ \"Content-Type\" : \"application/json\"})\n",
    "\n",
    "        if not solicitud2.ok:\n",
    "            solicitud2.raise_for_status()\n",
    "            sys.exit()\n",
    "\n",
    "        exon = solicitud2.json()\n",
    "        \n",
    "        if ex[\"strand\"] == -1:\n",
    "            secuencia_fasta = SeqRecord (Seq(exon[\"seq\"]).complement())\n",
    "            \n",
    "        else:\n",
    "            secuencia_fasta = SeqRecord (Seq(exon[\"seq\"]))\n",
    "            \n",
    "        secuencia_fasta.id = exon[\"id\"]\n",
    "        secuencia_fasta.name = exon[\"id\"] + \"exon\" + str(contador)\n",
    "        secuencia_fasta.description = exon[\"desc\"]  + \" exon \" + str(contador)\n",
    "        lista_secuencias.append(secuencia_fasta)\n",
    "\n",
    "        contador +=1\n",
    "\n",
    "    SeqIO.write(lista_secuencias, nombre_archivo_fasta, \"fasta\")\n",
    "\n",
    "    print (\"Se han guardado las secuencias correctamente\")\n",
    "    \n",
    "    return exones\n"
   ]
  },
  {
   "cell_type": "code",
   "execution_count": 414,
   "id": "448d7b69-eb01-467b-be05-03ffbf6bcb68",
   "metadata": {},
   "outputs": [
    {
     "name": "stdout",
     "output_type": "stream",
     "text": [
      "Se han guardado las secuencias correctamente\n"
     ]
    }
   ],
   "source": [
    "exones_fasta = obtener_secuencia_exones_fasta (\"ENST00000269305\", \"human\", \"data/holu.fasta\")\n"
   ]
  },
  {
   "cell_type": "code",
   "execution_count": 415,
   "id": "bce98135-0c9e-4f5a-af10-922b9173f37a",
   "metadata": {},
   "outputs": [
    {
     "name": "stdout",
     "output_type": "stream",
     "text": [
      "{'db_type': 'core', 'id': 'ENSE00004023728', 'version': 1, 'species': 'homo_sapiens', 'object_type': 'Exon', 'seq_region_name': '17', 'assembly_name': 'GRCh38', 'end': 7676622, 'strand': -1, 'start': 7676521}\n"
     ]
    }
   ],
   "source": [
    "print (exones_fasta[1])"
   ]
  },
  {
   "cell_type": "markdown",
   "id": "3422a409-9ee3-4ce9-8498-79f083def30e",
   "metadata": {},
   "source": [
    "## Obtención de la localización de los exones"
   ]
  },
  {
   "cell_type": "code",
   "execution_count": 257,
   "id": "9a1afee6-8b13-4c58-ac2b-d5213ea967e9",
   "metadata": {},
   "outputs": [],
   "source": [
    "def obtener_localizacion_exones (exones):\n",
    "    \n",
    "    diccionario_posiciones_exones = {}\n",
    "\n",
    "    for exon in exones[\"Exon\"]:\n",
    "        inicio = exon[\"start\"]\n",
    "        final = exon[\"end\"]\n",
    "        longitud = final - inicio\n",
    "        diccionario_posiciones_exones[exon[\"id\"]] = [inicio, final, longitud]\n",
    "    \n",
    "    return diccionario_posiciones_exones\n",
    "        \n",
    "    "
   ]
  },
  {
   "cell_type": "code",
   "execution_count": null,
   "id": "fbb32559-76f8-43aa-b00e-ad9ecbc23da1",
   "metadata": {},
   "outputs": [],
   "source": []
  },
  {
   "cell_type": "markdown",
   "id": "09d54fdc-0e41-4165-9557-6ab1cc60565a",
   "metadata": {},
   "source": [
    "## Obtención de las variantes que se encuentran dentro de los exones"
   ]
  },
  {
   "cell_type": "code",
   "execution_count": 312,
   "id": "c0091389-eb58-48be-a78f-cae6e2a7f9a5",
   "metadata": {},
   "outputs": [],
   "source": [
    "secuencia = SeqIO.parse (\"data/holu.fasta\", \"fasta\")\n"
   ]
  },
  {
   "cell_type": "code",
   "execution_count": 313,
   "id": "504eb96e-e5c6-47eb-8c01-061b4de20b3c",
   "metadata": {},
   "outputs": [],
   "source": [
    "secuencia1 = next(secuencia)\n",
    "\n"
   ]
  },
  {
   "cell_type": "code",
   "execution_count": 314,
   "id": "ad9c8688-2859-41d9-aec3-791f651edef8",
   "metadata": {},
   "outputs": [],
   "source": [
    "sec = \"exon 1\""
   ]
  },
  {
   "cell_type": "code",
   "execution_count": 315,
   "id": "222ef216-aa35-4b4f-96cf-d09b8d3bec8d",
   "metadata": {},
   "outputs": [],
   "source": [
    "if secuencia1.description.find (\"exon1\") != -1:\n",
    "    hola = 1\n",
    "    print (hola)"
   ]
  },
  {
   "cell_type": "code",
   "execution_count": 316,
   "id": "af859751-0d63-4580-a212-4a404ec0607f",
   "metadata": {},
   "outputs": [
    {
     "name": "stdout",
     "output_type": "stream",
     "text": [
      "ID: ENSE00003753508\n",
      "Name: ENSE00003753508\n",
      "Description: ENSE00003753508 chromosome:GRCh38:17:7687377:7687490:-1 exon 1\n",
      "Number of features: 0\n",
      "Seq('GAGTTTTCAGATCTCGGTGGCAGGTCCCTCGTCCATCGACGACCCGAGGCCCCT...ACC')\n",
      "GAGTTTTCAGATCTCGGTGGCAGGTCCCTCGTCCATCGACGACCCGAGGCCCCTGTGAAACGCAAGCCCGACCCTCGCACGAAAGGTGCTGCCACTGTGCGAAGGGACCTAACC\n"
     ]
    }
   ],
   "source": [
    "print (secuencia1)\n",
    "print (secuencia1.seq)"
   ]
  },
  {
   "cell_type": "code",
   "execution_count": 317,
   "id": "aae6bcf7-1935-4a7f-b9c3-d57937ede065",
   "metadata": {},
   "outputs": [],
   "source": [
    "secuencia2 = next(secuencia)"
   ]
  },
  {
   "cell_type": "code",
   "execution_count": 318,
   "id": "fa8aabf6-f153-4eae-a96f-f79d2640e0bc",
   "metadata": {},
   "outputs": [
    {
     "name": "stdout",
     "output_type": "stream",
     "text": [
      "ID: ENSE00004023728\n",
      "Name: ENSE00004023728\n",
      "Description: ENSE00004023728 chromosome:GRCh38:17:7676521:7676622:-1 exon 2\n",
      "Number of features: 0\n",
      "Seq('GTCGGTCTGACGGAAGGCCCAGTGACGGTACCTCCTCGGCGTCAGTCTAGGATC...TGA')\n",
      "GTCGGTCTGACGGAAGGCCCAGTGACGGTACCTCCTCGGCGTCAGTCTAGGATCGCAGCTCGGGGGAGACTCAGTCCTTTGTAAAAGTCTGGATACCTTTGA\n"
     ]
    }
   ],
   "source": [
    "print (secuencia2)\n",
    "print (secuencia2.seq)"
   ]
  },
  {
   "cell_type": "code",
   "execution_count": 400,
   "id": "006bff08-e77b-4e92-ba27-74dcbc07e414",
   "metadata": {},
   "outputs": [
    {
     "name": "stdout",
     "output_type": "stream",
     "text": [
      "GTGACGGGTTGTTGTGGTCGAGGAGAGGGGTCGGTTTCTTCTTTGGTGACCTACCTCTTATAAAGTGGGAAGTC\n"
     ]
    }
   ],
   "source": [
    "for i in SeqIO.parse (\"data/holu.fasta\", \"fasta\"):\n",
    "    if i.id == \"ENSE00003786593\":\n",
    "        secuencia3 = i\n",
    "        \n",
    "print (secuencia3.seq)"
   ]
  },
  {
   "cell_type": "markdown",
   "id": "f2bb248a-fcc5-400e-be67-c23f79180058",
   "metadata": {},
   "source": [
    "## Obtener un diccionario con todas las variantes de un determinado exón "
   ]
  },
  {
   "cell_type": "code",
   "execution_count": 319,
   "id": "b27168fb-c3a1-4567-906f-8a480fe2a266",
   "metadata": {},
   "outputs": [],
   "source": [
    "def obtener_variantes_exon (variantes, identificador_exon, exones):\n",
    "    for ex in exones:\n",
    "        if ex[\"id\"] == identificador_exon:\n",
    "            inicio_exon = ex[\"start\"]\n",
    "            final_exon = ex[\"end\"]\n",
    "\n",
    "            diccionario_variantes_exon = {}\n",
    "\n",
    "            for var in variantes:\n",
    "                inicio_variante = var[\"start\"]\n",
    "\n",
    "                if inicio_exon <= inicio_variante <= final_exon:\n",
    "                    diccionario_variantes_exon[var[\"id\"]] = var\n",
    "\n",
    "    return diccionario_variantes_exon\n",
    "    "
   ]
  },
  {
   "cell_type": "code",
   "execution_count": 401,
   "id": "4f2e6ea5-1e97-4a03-8949-0d29352d051f",
   "metadata": {},
   "outputs": [
    {
     "name": "stdout",
     "output_type": "stream",
     "text": [
      "{'rs1555524949': {'feature_type': 'variation', 'consequence_type': 'frameshift_variant', 'end': 7673538, 'source': 'dbSNP', 'assembly_name': 'GRCh38', 'strand': 1, 'alleles': ['CTGA', '-'], 'start': 7673535, 'seq_region_name': '17', 'clinical_significance': ['pathogenic'], 'id': 'rs1555524949'}, 'rs1597359130': {'alleles': ['G', 'A', 'T'], 'start': 7673537, 'strand': 1, 'assembly_name': 'GRCh38', 'source': 'dbSNP', 'consequence_type': 'stop_gained', 'feature_type': 'variation', 'end': 7673537, 'id': 'rs1597359130', 'clinical_significance': ['uncertain significance', 'pathogenic'], 'seq_region_name': '17'}, 'rs2151010918': {'seq_region_name': '17', 'clinical_significance': ['pathogenic'], 'id': 'rs2151010918', 'strand': 1, 'alleles': ['AA', 'A'], 'start': 7673538, 'end': 7673539, 'feature_type': 'variation', 'consequence_type': 'frameshift_variant', 'source': 'dbSNP', 'assembly_name': 'GRCh38'}, 'rs2073149039': {'clinical_significance': ['pathogenic'], 'seq_region_name': '17', 'id': 'rs2073149039', 'feature_type': 'variation', 'consequence_type': 'frameshift_variant', 'end': 7673542, 'assembly_name': 'GRCh38', 'source': 'dbSNP', 'start': 7673540, 'alleles': ['GGG', 'GG'], 'strand': 1}, 'rs1567545918': {'end': 7673563, 'feature_type': 'variation', 'consequence_type': 'frameshift_variant', 'assembly_name': 'GRCh38', 'source': 'dbSNP', 'start': 7673542, 'alleles': ['GTGAAATATTCTCCATCCAGTG', 'GTG'], 'strand': 1, 'clinical_significance': ['pathogenic'], 'seq_region_name': '17', 'id': 'rs1567545918'}, 'rs886041285': {'clinical_significance': ['pathogenic'], 'seq_region_name': '17', 'id': 'rs886041285', 'feature_type': 'variation', 'consequence_type': 'frameshift_variant', 'end': 7673547, 'assembly_name': 'GRCh38', 'source': 'dbSNP', 'alleles': ['AAA', 'AAAA', 'AAAAA'], 'start': 7673545, 'strand': 1}, 'rs879254077': {'strand': 1, 'start': 7673547, 'alleles': ['A', 'C', 'G', 'T'], 'consequence_type': 'stop_gained', 'feature_type': 'variation', 'end': 7673547, 'source': 'dbSNP', 'assembly_name': 'GRCh38', 'seq_region_name': '17', 'clinical_significance': ['likely pathogenic', 'pathogenic'], 'id': 'rs879254077'}, 'rs1597359215': {'strand': 1, 'start': 7673547, 'alleles': ['ATAT', 'AT'], 'end': 7673550, 'feature_type': 'variation', 'consequence_type': 'frameshift_variant', 'source': 'dbSNP', 'assembly_name': 'GRCh38', 'seq_region_name': '17', 'clinical_significance': ['pathogenic'], 'id': 'rs1597359215'}, 'rs1597359235': {'feature_type': 'variation', 'consequence_type': 'frameshift_variant', 'end': 7673554, 'source': 'dbSNP', 'assembly_name': 'GRCh38', 'strand': 1, 'start': 7673551, 'alleles': ['TCTC', 'TCTCTC'], 'seq_region_name': '17', 'clinical_significance': ['pathogenic'], 'id': 'rs1597359235'}, 'rs876659384': {'seq_region_name': '17', 'clinical_significance': ['pathogenic'], 'id': 'rs876659384', 'consequence_type': 'stop_gained', 'feature_type': 'variation', 'end': 7673552, 'source': 'dbSNP', 'assembly_name': 'GRCh38', 'strand': 1, 'start': 7673552, 'alleles': ['C', 'A', 'G', 'T']}, 'rs121912659': {'feature_type': 'variation', 'end': 7673554, 'consequence_type': 'missense_variant', 'assembly_name': 'GRCh38', 'source': 'dbSNP', 'start': 7673554, 'alleles': ['C', 'A', 'G', 'T'], 'strand': 1, 'clinical_significance': ['uncertain significance', 'pathogenic'], 'seq_region_name': '17', 'id': 'rs121912659'}, 'rs863224500': {'id': 'rs863224500', 'clinical_significance': ['uncertain significance', 'likely benign', 'pathogenic'], 'seq_region_name': '17', 'assembly_name': 'GRCh38', 'source': 'dbSNP', 'feature_type': 'variation', 'consequence_type': 'stop_gained', 'end': 7673555, 'alleles': ['C', 'A', 'G', 'T'], 'start': 7673555, 'strand': 1}, 'rs2073154382': {'id': 'rs2073154382', 'seq_region_name': '17', 'clinical_significance': ['pathogenic'], 'source': 'dbSNP', 'assembly_name': 'GRCh38', 'feature_type': 'variation', 'consequence_type': 'stop_gained', 'end': 7673567, 'strand': 1, 'alleles': ['T', 'A'], 'start': 7673567}, 'rs2151011624': {'alleles': ['T', 'A', 'C'], 'start': 7673570, 'strand': 1, 'assembly_name': 'GRCh38', 'source': 'dbSNP', 'feature_type': 'variation', 'consequence_type': 'stop_gained', 'end': 7673570, 'id': 'rs2151011624', 'clinical_significance': ['pathogenic'], 'seq_region_name': '17'}, 'rs1597359403': {'strand': 1, 'start': 7673574, 'alleles': ['TGGCTGG', 'TGG'], 'source': 'dbSNP', 'assembly_name': 'GRCh38', 'feature_type': 'variation', 'consequence_type': 'frameshift_variant', 'end': 7673580, 'id': 'rs1597359403', 'seq_region_name': '17', 'clinical_significance': ['pathogenic']}, 'rs1555524976': {'consequence_type': 'frameshift_variant', 'feature_type': 'variation', 'end': 7673578, 'assembly_name': 'GRCh38', 'source': 'dbSNP', 'start': 7673578, 'alleles': ['T', '-'], 'strand': 1, 'clinical_significance': ['pathogenic'], 'seq_region_name': '17', 'id': 'rs1555524976'}, 'rs764735889': {'seq_region_name': '17', 'clinical_significance': ['uncertain significance', 'likely benign', 'likely pathogenic', 'pathogenic'], 'id': 'rs764735889', 'strand': 1, 'alleles': ['G', 'A', 'C', 'T'], 'start': 7673579, 'consequence_type': 'stop_gained', 'feature_type': 'variation', 'end': 7673579, 'source': 'dbSNP', 'assembly_name': 'GRCh38'}, 'rs1567546196': {'seq_region_name': '17', 'clinical_significance': ['pathogenic'], 'id': 'rs1567546196', 'strand': 1, 'start': 7673579, 'alleles': ['GGGG', 'GGG'], 'end': 7673582, 'feature_type': 'variation', 'consequence_type': 'frameshift_variant', 'source': 'dbSNP', 'assembly_name': 'GRCh38'}, 'rs2151011929': {'seq_region_name': '17', 'clinical_significance': ['pathogenic'], 'id': 'rs2151011929', 'strand': 1, 'start': 7673582, 'alleles': ['GAGAG', 'GAG'], 'consequence_type': 'frameshift_variant', 'feature_type': 'variation', 'end': 7673586, 'source': 'dbSNP', 'assembly_name': 'GRCh38'}, 'rs1567546226': {'id': 'rs1567546226', 'seq_region_name': '17', 'clinical_significance': ['pathogenic'], 'strand': 1, 'start': 7673582, 'alleles': ['GAGAGGAGCTG', 'G'], 'source': 'dbSNP', 'assembly_name': 'GRCh38', 'end': 7673592, 'feature_type': 'variation', 'consequence_type': 'frameshift_variant'}, 'rs1597359548': {'seq_region_name': '17', 'clinical_significance': ['pathogenic'], 'id': 'rs1597359548', 'consequence_type': 'frameshift_variant', 'feature_type': 'variation', 'end': 7673583, 'source': 'dbSNP', 'assembly_name': 'GRCh38', 'strand': 1, 'alleles': ['A', '-'], 'start': 7673583}, 'rs2151011976': {'end': 7673583, 'feature_type': 'variation', 'consequence_type': 'frameshift_variant', 'assembly_name': 'GRCh38', 'source': 'dbSNP', 'alleles': ['A', 'AA'], 'start': 7673583, 'strand': 1, 'clinical_significance': ['pathogenic'], 'seq_region_name': '17', 'id': 'rs2151011976'}, 'rs1567546373': {'consequence_type': 'frameshift_variant', 'feature_type': 'variation', 'end': 7673595, 'assembly_name': 'GRCh38', 'source': 'dbSNP', 'alleles': ['G', '-'], 'start': 7673595, 'strand': 1, 'clinical_significance': ['pathogenic'], 'seq_region_name': '17', 'id': 'rs1567546373'}, 'rs2073160651': {'id': 'rs2073160651', 'seq_region_name': '17', 'clinical_significance': ['pathogenic'], 'strand': 1, 'alleles': ['GGG', 'GG'], 'start': 7673601, 'source': 'dbSNP', 'assembly_name': 'GRCh38', 'feature_type': 'variation', 'end': 7673603, 'consequence_type': 'frameshift_variant'}}\n"
     ]
    }
   ],
   "source": [
    "diccionario_variantes_exon = obtener_variantes_exon (variantes_patogenicas, \"ENSE00003786593\", exones)\n",
    "print (diccionario_variantes_exon)"
   ]
  },
  {
   "cell_type": "code",
   "execution_count": 326,
   "id": "91327027-8669-47aa-9d83-98a2f3c076ec",
   "metadata": {},
   "outputs": [
    {
     "name": "stdout",
     "output_type": "stream",
     "text": [
      "4 3\n",
      "3 2\n",
      "1 1\n",
      "5 6\n"
     ]
    }
   ],
   "source": [
    "for i in diccionario_variantes_exon.values():\n",
    "    print (len(i[\"alleles\"][0]), len(i[\"alleles\"][1]))"
   ]
  },
  {
   "cell_type": "markdown",
   "id": "1e268137-9c88-4b80-9d38-20baf687de07",
   "metadata": {},
   "source": [
    "## Obtención de la secuencia de las variantes, tanto patogénicas, como benignas\n",
    "\n",
    "Como al utilizar la API de Ensembl para obtener las variantes no obtenemos la secuencia completa del gen con estas variaciones, sino que solo obtenemos los alelos que han sufrido la variación lo que vamos a hacer es lo siguiente:\n",
    "\n",
    "1. A partir del diccionario de las variantes que corresponden a un determinado exón, vamos a identificar el tipo de variación que ha sufrido la secuencia, una inserción (el alelo de referencia es más corto que el alternativo), una delección (el alelo de referencia tiene una mayor longitud que el alternativo) y un reemplazo (el alelo de referencia y el alternativo presentan la misma longitud). \n",
    "   \n",
    "3. Realizamos la modificación de la secuencia del exón con el alelo mutado.  "
   ]
  },
  {
   "cell_type": "code",
   "execution_count": 424,
   "id": "f0020065-6473-409f-8333-edefb21ba0fd",
   "metadata": {},
   "outputs": [],
   "source": [
    "def obtener_secuencia_variantes_exon (diccionario_variantes_exon, exones, exon_fasta):\n",
    "\n",
    "    for ex in exones:\n",
    "        if ex[\"id\"] == exon_fasta.id:\n",
    "            inicio_exon = ex[\"start\"]\n",
    "            final_exon = ex[\"end\"]\n",
    "            sec_exon_fasta = exon_fasta.seq\n",
    "            \n",
    "            secs =[]\n",
    "            \n",
    "            for var in diccionario_variantes_exon.values():\n",
    "                if len(var[\"alleles\"][0]) > len(var[\"alleles\"][1]):\n",
    "                    longitud_variante = len(var[\"alleles\"][0])\n",
    "                    inicio_variante = final_exon - var[\"start\"] - len(var[\"alleles\"][0])\n",
    "                    secuencia_variante = sec_exon_fasta[:inicio_variante+1]+var[\"alleles\"][1]+sec_exon_fasta[inicio_variante+longitud_variante+1:]\n",
    "                    secs.append ([var[\"id\"],secuencia_variante])\n",
    "\n",
    "                elif len(var[\"alleles\"][0]) < len(var[\"alleles\"][1]):\n",
    "                    longitud_variante = len(var[\"alleles\"][0])\n",
    "                    inicio_variante = final_exon - var[\"start\"] - len(var[\"alleles\"][0])\n",
    "                    secuencia_variante = sec_exon_fasta[:inicio_variante+1]+var[\"alleles\"][1]+sec_exon_fasta[inicio_variante+longitud_variante+1:]\n",
    "                    secs.append ([var[\"id\"],secuencia_variante])\n",
    "\n",
    "                else:\n",
    "                    longitud_variante = len(var[\"alleles\"][0])\n",
    "                    inicio_variante = final_exon - var[\"start\"]\n",
    "                    secuencia_variante = sec_exon_fasta[:inicio_variante]+var[\"alleles\"][1]+sec_exon_fasta[inicio_variante+longitud_variante:]\n",
    "                    secs.append ([var[\"id\"],secuencia_variante])\n",
    "                    \n",
    "                    \n",
    "\n",
    "    return secs\n",
    "        "
   ]
  },
  {
   "cell_type": "code",
   "execution_count": 425,
   "id": "371c2743-5dd2-4d8b-8721-927777c0ac8d",
   "metadata": {},
   "outputs": [
    {
     "name": "stdout",
     "output_type": "stream",
     "text": [
      "GTGACGGGTTGTTGTGGTCGAGGAGAGGGGTCGGTTTCTTCTTTGGTGACCTACCTCTTATAAAGTGGGAAGTC\n",
      "['rs2073160651', Seq('GTGACGGTTGTTGTGGTCGAGGAGAGGGGTCGGTTTCTTCTTTGGTGACCTACC...GTC')]\n"
     ]
    }
   ],
   "source": [
    "ab = obtener_secuencia_variantes_exon (diccionario_variantes_exon, exones, secuencia3)\n",
    "print (secuencia3.seq)\n",
    "print (ab[-1])"
   ]
  },
  {
   "cell_type": "code",
   "execution_count": null,
   "id": "5dfd59d9-aecb-4f7f-a21e-aa234cc858b0",
   "metadata": {},
   "outputs": [],
   "source": []
  },
  {
   "cell_type": "markdown",
   "id": "7322e856-2d7d-4883-bbca-0b212714eb5f",
   "metadata": {},
   "source": [
    "## Obtención de la secuencia de las variantes patogénicas en formato fasta\n",
    "\n",
    "Como las variantes que hemos obtenido en un primer paso de obtención de variantes sabemos que corresponden a humanos, no necesitamso especificar la especie en este caso.\n",
    "\n",
    "Vamos a crear un objeto tipo SeqRecord con los datos de la variante y lo vamos a almacenar en un archivo de tipo fasta"
   ]
  },
  {
   "cell_type": "code",
   "execution_count": 440,
   "id": "e867b518-983e-4a2e-aa1e-9517cde7d470",
   "metadata": {},
   "outputs": [],
   "source": [
    "def obtener_secuencia_variantes_fasta (diccionario_variantes_exon, secuencia_variantes, nombre_archivo_fasta, exon_fasta):\n",
    "    lista_secuencias = []\n",
    "\n",
    "    for var in diccionario_variantes_exon.values():\n",
    "        for seq in secuencia_variantes:\n",
    "            if var[\"id\"] == seq[0]:\n",
    "                secuencia_fasta = SeqRecord (Seq(seq[1]))\n",
    "                secuencia_fasta.id = var[\"id\"]\n",
    "                secuencia_fasta.name = var[\"id\"]\n",
    "                secuencia_fasta.description = str(var[\"clinical_significance\"]) + str (exon_fasta.id) + str (exon_fasta.description)\n",
    "                lista_secuencias.append (secuencia_fasta)\n",
    "\n",
    "    SeqIO.write(lista_secuencias, nombre_archivo_fasta, \"fasta\")\n",
    "\n",
    "    print (\"Las secuencias de las variantes se han guardado en formato fasta\")\n",
    "                \n",
    "        \n",
    "    \n",
    "    "
   ]
  },
  {
   "cell_type": "code",
   "execution_count": 441,
   "id": "ce8375e3-755c-4bbc-9930-954eb7084e01",
   "metadata": {},
   "outputs": [
    {
     "name": "stdout",
     "output_type": "stream",
     "text": [
      "Las secuencias de las variantes se han guardado en formato fasta\n"
     ]
    }
   ],
   "source": [
    "obtener_secuencia_variantes_fasta (diccionario_variantes_exon, ab, \"data/secuencia_variantes.fasta\", secuencia3)"
   ]
  },
  {
   "cell_type": "code",
   "execution_count": null,
   "id": "5ed06f78-f328-4fa9-97ae-3b634bee68a2",
   "metadata": {},
   "outputs": [],
   "source": [
    "secuencia_fasta.id = exon[\"id\"]\n",
    "        secuencia_fasta.name = exon[\"id\"] + \"exon\" + str(contador)\n",
    "        secuencia_fasta.description = exon[\"desc\"]  + \" exon \" + str(contador)\n",
    "        lista_secuencias.append(secuencia_fasta)\n",
    "\n",
    "        contador +=1\n",
    "\n",
    "    SeqIO.write(lista_secuencias, nombre_archivo_fasta, \"fasta\")\n",
    "\n",
    "    print (\"Se han guardado las secuencias correctamente\")\n",
    "\n",
    " secuencia_fasta = SeqRecord (Seq(exon[\"seq\"]))\n",
    "            "
   ]
  },
  {
   "cell_type": "code",
   "execution_count": 66,
   "id": "34bd7c19-eb75-4f21-9e20-aa84ff5c0c6f",
   "metadata": {},
   "outputs": [],
   "source": [
    "def guardar_fasta (identificador_variante):\n",
    "    x = SeqRecord(Seq((obtener_secuencia_variante(identificador_variante))))\n",
    "    SeqIO.write (x, \"secuencia.fasta\", \"fasta\")\n",
    "    "
   ]
  },
  {
   "cell_type": "code",
   "execution_count": null,
   "id": "a71eeed2-e010-4c65-ae7c-8bf953de0a60",
   "metadata": {},
   "outputs": [],
   "source": []
  }
 ],
 "metadata": {
  "kernelspec": {
   "display_name": "Python 3 (ipykernel)",
   "language": "python",
   "name": "python3"
  },
  "language_info": {
   "codemirror_mode": {
    "name": "ipython",
    "version": 3
   },
   "file_extension": ".py",
   "mimetype": "text/x-python",
   "name": "python",
   "nbconvert_exporter": "python",
   "pygments_lexer": "ipython3",
   "version": "3.11.7"
  }
 },
 "nbformat": 4,
 "nbformat_minor": 5
}
